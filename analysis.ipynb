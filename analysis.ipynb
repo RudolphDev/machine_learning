{
 "metadata": {
  "orig_nbformat": 2,
  "kernelspec": {
   "name": "python3",
   "display_name": "Python 3",
   "language": "python"
  }
 },
 "nbformat": 4,
 "nbformat_minor": 2,
 "cells": [
  {
   "cell_type": "code",
   "execution_count": 1,
   "metadata": {},
   "outputs": [],
   "source": [
    "from tr_functions.general import GeneralModel\n",
    "from tr_functions.gaussian import GaussianModel\n",
    "from tr_functions.kppv import KppvModel"
   ]
  },
  {
   "cell_type": "code",
   "execution_count": 2,
   "metadata": {},
   "outputs": [],
   "source": [
    "split_data_tp1_app = GeneralModel.open_file('data/data_tp1_app.txt')\n",
    "split_data_tp1_dec = GeneralModel.open_file('data/data_tp1_dec.txt')\n",
    "\n",
    "split_data_tp2_app = GeneralModel.open_file('data/data_tp2_app.txt')\n",
    "split_data_tp2_dec = GeneralModel.open_file('data/data_tp2_dec.txt')\n",
    "\n",
    "split_data_tp3_app = GeneralModel.open_file('data/data_tp3_app.txt')\n",
    "split_data_tp3_dec = GeneralModel.open_file('data/data_tp3_dec.txt')"
   ]
  },
  {
   "cell_type": "code",
   "execution_count": 3,
   "metadata": {
    "tags": []
   },
   "outputs": [],
   "source": [
    "# gaussian_model = GaussianModel()\n",
    "# gaussian_model.gaussian_fit_model(split_data_tp1_app)\n",
    "# gaussian_model.print_classes_centers()\n",
    "# gaussian_model.show_train_plot()\n",
    "# gaussian_model.compute_method = \"mahalanobis\"\n",
    "# gaussian_model.test_model(split_data_tp1_dec)\n",
    "# gaussian_model.print_model_result()\n"
   ]
  },
  {
   "cell_type": "code",
   "execution_count": 4,
   "metadata": {},
   "outputs": [
    {
     "output_type": "stream",
     "name": "stdout",
     "text": [
      "K set to 5\n",
      "Will use k = 5 neighbours\n",
      "Results :\n",
      "----------------\n",
      "Number of elements for the learning step :  500\n",
      "Number of elements for the decision step :  500\n",
      "----------------\n",
      "\n",
      "Top results :\n",
      "----------------\n",
      "Top 1 rate :  0.644\n",
      "Top 2 rate :  0.926\n",
      "----------------\n",
      "\n",
      "Confusion matrix :\n",
      "----------------\n",
      "╒════╤═════╤═════╤═════╤═════╤═════╕\n",
      "│    │   1 │   2 │   3 │   4 │   5 │\n",
      "╞════╪═════╪═════╪═════╪═════╪═════╡\n",
      "│  1 │  44 │  54 │   0 │   0 │   2 │\n",
      "├────┼─────┼─────┼─────┼─────┼─────┤\n",
      "│  2 │  46 │  50 │   0 │   0 │   4 │\n",
      "├────┼─────┼─────┼─────┼─────┼─────┤\n",
      "│  3 │   0 │   0 │  65 │  35 │   0 │\n",
      "├────┼─────┼─────┼─────┼─────┼─────┤\n",
      "│  4 │   0 │   0 │  46 │  50 │   4 │\n",
      "├────┼─────┼─────┼─────┼─────┼─────┤\n",
      "│  5 │   1 │   1 │   1 │   9 │  88 │\n",
      "╘════╧═════╧═════╧═════╧═════╧═════╛\n",
      "----------------\n",
      "5\n"
     ]
    }
   ],
   "source": [
    "kppv = KppvModel()\n",
    "kppv.k = 5\n",
    "kppv.vote_method = \"majority\"\n",
    "kppv.compute_kppv(split_data_tp1_app, split_data_tp1_dec)\n",
    "kppv.print_model_result()\n",
    "print(kppv.k)"
   ]
  },
  {
   "cell_type": "code",
   "execution_count": null,
   "metadata": {},
   "outputs": [],
   "source": []
  }
 ]
}