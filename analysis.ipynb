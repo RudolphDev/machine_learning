{
 "metadata": {
  "language_info": {
   "codemirror_mode": {
    "name": "ipython",
    "version": 3
   },
   "file_extension": ".py",
   "mimetype": "text/x-python",
   "name": "python",
   "nbconvert_exporter": "python",
   "pygments_lexer": "ipython3",
   "version": "3.8.6"
  },
  "orig_nbformat": 2,
  "kernelspec": {
   "name": "python3",
   "display_name": "Python 3",
   "language": "python"
  }
 },
 "nbformat": 4,
 "nbformat_minor": 2,
 "cells": [
  {
   "cell_type": "code",
   "execution_count": 1,
   "metadata": {},
   "outputs": [],
   "source": [
    "from tr_functions.general import open_file\n",
    "from tr_functions.gaussian import GaussianModel"
   ]
  },
  {
   "cell_type": "code",
   "execution_count": 2,
   "metadata": {},
   "outputs": [],
   "source": [
    "split_data_tp1_app = open_file('data/data_tp1_app.txt')\n",
    "split_data_tp1_dec = open_file('data/data_tp1_dec.txt')\n",
    "\n",
    "split_data_tp2_app = open_file('data/data_tp2_app.txt')\n",
    "split_data_tp2_dec = open_file('data/data_tp2_dec.txt')\n",
    "\n",
    "split_data_tp3_app = open_file('data/data_tp3_app.txt')\n",
    "split_data_tp3_dec = open_file('data/data_tp3_dec.txt')"
   ]
  },
  {
   "cell_type": "code",
   "execution_count": 3,
   "metadata": {},
   "outputs": [
    {
     "output_type": "stream",
     "name": "stdout",
     "text": [
      "Gaussian model created\nClasses centers created\nClass = 1 has a center = [-6.10093065, 5.99640958]\nClass = 2 has a center = [5.79953605, 6.171171379999997]\nClass = 3 has a center = [5.776998600000001, -5.925827230000001]\nClass = 4 has a center = [-5.924998090000001, -6.013923480000001]\nClass = 5 has a center = [-0.013581480000000043, 0.2513897700000001]\nResults :\n----------------\nNumber of elements for the learning step :  500\nNumber of elements for the decision step :  500\n----------------\n\nTop results :\n----------------\nTop 1 rate :  0.992\nTop 2 rate :  1.0\n----------------\n\nConfusion matrix :\n----------------\n╒═════╤═════╤═════╤═════╤═════╕\n│   0 │   1 │   2 │   3 │   4 │\n╞═════╪═════╪═════╪═════╪═════╡\n│  98 │   0 │   0 │   0 │   2 │\n├─────┼─────┼─────┼─────┼─────┤\n│   0 │ 100 │   0 │   0 │   0 │\n├─────┼─────┼─────┼─────┼─────┤\n│   0 │   0 │  99 │   1 │   0 │\n├─────┼─────┼─────┼─────┼─────┤\n│   0 │   0 │   0 │ 100 │   0 │\n├─────┼─────┼─────┼─────┼─────┤\n│   1 │   0 │   0 │   0 │  99 │\n╘═════╧═════╧═════╧═════╧═════╛\n----------------\n"
     ]
    }
   ],
   "source": [
    "gaussian_model = GaussianModel()\n",
    "gaussian_model.gaussian_fit_model(split_data_tp1_app)\n",
    "gaussian_model.print_classes_centers()\n",
    "gaussian_model.compute_method = \"mahalanobis\"\n",
    "gaussian_model.test_model(split_data_tp1_dec)\n",
    "gaussian_model.print_model_result()\n",
    "gaussian_model.show_train_plot()"
   ]
  },
  {
   "cell_type": "code",
   "execution_count": null,
   "metadata": {},
   "outputs": [],
   "source": []
  },
  {
   "cell_type": "code",
   "execution_count": null,
   "metadata": {},
   "outputs": [],
   "source": []
  }
 ]
}