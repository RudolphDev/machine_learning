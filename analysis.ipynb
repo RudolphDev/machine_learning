{
 "metadata": {
  "orig_nbformat": 2,
  "kernelspec": {
   "name": "python3",
   "display_name": "Python 3",
   "language": "python"
  }
 },
 "nbformat": 4,
 "nbformat_minor": 2,
 "cells": [
  {
   "cell_type": "code",
   "execution_count": 1,
   "metadata": {},
   "outputs": [],
   "source": [
    "import numpy as np\n",
    "from tr_functions.general import GeneralModel\n",
    "from tr_functions.gaussian import GaussianModel\n",
    "from tr_functions.kppv import KppvModel\n",
    "from tr_functions.parzen import ParzenModel\n",
    "from tr_functions.linear import LinearSeparationModel"
   ]
  },
  {
   "cell_type": "code",
   "execution_count": 2,
   "metadata": {},
   "outputs": [],
   "source": [
    "split_data_tp1_app = GeneralModel.open_file('data/data_tp1_app.txt')\n",
    "split_data_tp1_dec = GeneralModel.open_file('data/data_tp1_dec.txt')\n",
    "\n",
    "split_data_tp2_app = GeneralModel.open_file('data/data_tp2_app.txt')\n",
    "split_data_tp2_dec = GeneralModel.open_file('data/data_tp2_dec.txt')\n",
    "\n",
    "split_data_tp3_app = GeneralModel.open_file('data/data_tp3_app.txt')\n",
    "split_data_tp3_dec = GeneralModel.open_file('data/data_tp3_dec.txt')"
   ]
  },
  {
   "source": [
    "## Analyse visuelle\n",
    "### Dataset 1"
   ],
   "cell_type": "markdown",
   "metadata": {}
  },
  {
   "cell_type": "code",
   "execution_count": 3,
   "metadata": {},
   "outputs": [],
   "source": [
    "# general = GeneralModel()\n",
    "# general.train_data = split_data_tp1_app\n",
    "# general.test_data = split_data_tp1_dec\n",
    "# general.plot_all_data()"
   ]
  },
  {
   "source": [
    "On remarque que les jeux de données d'apprentissage (croix plus claires) et de test (points sombres) se superposent relativement bien a l'exception de quelques outliers dans chaque classe. Normalement les différents modèles devraient séparer les classes avec une bon niveau de confiance. Dans cet exemple, la séparation des classes peut se faire manuellement. \n",
    "\n",
    "### Dataset 2"
   ],
   "cell_type": "markdown",
   "metadata": {}
  },
  {
   "cell_type": "code",
   "execution_count": 4,
   "metadata": {},
   "outputs": [],
   "source": [
    "# general = GeneralModel()\n",
    "# general.train_data = split_data_tp2_app\n",
    "# general.test_data = split_data_tp2_dec\n",
    "# general.plot_all_data()"
   ]
  },
  {
   "source": [
    "Contrairement au premier jeu de données, les classes semblent plus diffusent que ce soit pour les jeux d'apprentissage et de test. En revanche on remarque que les classes sont constante entre les deux jeux de données. Les résultats des différents modèles seront moins bon que pour le premier jeu. La séparation des classes peut se faire manuellement avec quelques difficultés.\n",
    "\n",
    "### Dataset 3"
   ],
   "cell_type": "markdown",
   "metadata": {}
  },
  {
   "cell_type": "code",
   "execution_count": 5,
   "metadata": {},
   "outputs": [],
   "source": [
    "# general = GeneralModel()\n",
    "# general.train_data = split_data_tp3_app\n",
    "# general.test_data = split_data_tp3_dec\n",
    "# general.plot_all_data()"
   ]
  },
  {
   "source": [
    "Ce troisième jeu de données est totalement mélangé. Visuellement on ne peut pas distinguer de classes. En revanche comme pour les deux précédents jeux on remarque les classes d'apprentissage et de tests se supperposent bien. Dans ce cas précis une analyse manuelle est impossible. Il est probable que ce jeu de données donne les moins bon résultats pour les différents modèles. \n",
    "\n",
    "## Estimation gaussienne (euclidienne)\n",
    "\n",
    "### Dataset 1"
   ],
   "cell_type": "markdown",
   "metadata": {}
  },
  {
   "cell_type": "code",
   "execution_count": 6,
   "metadata": {
    "tags": []
   },
   "outputs": [],
   "source": [
    "# gaussian_model = GaussianModel()\n",
    "# gaussian_model.gaussian_fit_model(split_data_tp1_app)\n",
    "# gaussian_model.print_classes_centers()\n",
    "# gaussian_model.plot_train_data()\n",
    "# gaussian_model.compute_method = \"euclidian\"\n",
    "# gaussian_model.test_model(split_data_tp1_dec)\n",
    "# gaussian_model.print_model_result()\n",
    "# gaussian_model.plot_test_data()\n"
   ]
  },
  {
   "source": [
    "L'analyse du jeu de données d'apprentissage avec la position de chaque classe représenté en par les croix noires montre une répartition bien visible. L'analyse du jeux de test montre un taux de Top 1 de 99,2% et de Top 2 de 100%. On peut donc en déduire que la méthode de l'estimation gaussienne avec distance euclidienne prédit de manière efficace les classes. Sur les 500 classes à prédire 496 sont bien classés.\n",
    "Le deuxième graphique représente le jeu de données tests avec les classes en croix noires. Les couleurs des points représentent les classes prédites et les contours représentent les classes théoriques. On remarque que les 4 classes mal placées sont des classes qui peuvent être considéré comme des outliers, car posisitionné entre deux groupes de classes. \n",
    "\n",
    "### Dataset 2"
   ],
   "cell_type": "markdown",
   "metadata": {}
  },
  {
   "cell_type": "code",
   "execution_count": 7,
   "metadata": {},
   "outputs": [],
   "source": [
    "# gaussian_model = GaussianModel()\n",
    "# gaussian_model.gaussian_fit_model(split_data_tp2_app)\n",
    "# gaussian_model.print_classes_centers()\n",
    "# gaussian_model.plot_train_data()\n",
    "# gaussian_model.compute_method = \"euclidian\"\n",
    "# gaussian_model.test_model(split_data_tp2_dec)\n",
    "# gaussian_model.print_model_result()\n",
    "# gaussian_model.plot_test_data()"
   ]
  },
  {
   "source": [
    "Comme précédement on remarque que les centres de classes sont bien positionnés par rapport aux classes. Comparé au précédent dataset les résultats sont un peu moins bon avec seulement 94% en Top 1. Lorsque l'on regarde la matrice de confusion on remarque que la classe numéro 3 est la classe la moins bien classée. En analysant le graphique on remarque la classe 3 (verte) a de nombreux points proche des centres de classes 5 et 2. De plus on remarque que les 6 points mal classés de la classe 4 sont placé dans la classe 3. La méthode est donc un peu moins bonne lorsque les données se chevauchent.  \n",
    "\n",
    "### Dataset 3"
   ],
   "cell_type": "markdown",
   "metadata": {}
  },
  {
   "cell_type": "code",
   "execution_count": 8,
   "metadata": {},
   "outputs": [],
   "source": [
    "# gaussian_model = GaussianModel()\n",
    "# gaussian_model.gaussian_fit_model(split_data_tp3_app)\n",
    "# gaussian_model.print_classes_centers()\n",
    "# gaussian_model.plot_train_data()\n",
    "# gaussian_model.compute_method = \"euclidian\"\n",
    "# gaussian_model.test_model(split_data_tp3_dec)\n",
    "# gaussian_model.print_model_result()\n",
    "# gaussian_model.plot_test_data()"
   ]
  },
  {
   "source": [
    "Pour le dataset 3 on remarque que les différentes classes sont mélangé car les plages de valeurs sont plus larges. Le résultat en Top 1 est de seulement 73%, et le Top 2 ne monte qu'à 89% soit moins que les deux autres datasets. Lorsque l'on étudie la matrice de confusion, on remarque que la classe la moins bien classé avec seulement 43% de bon est la classe 1. En comparant avec le graphique on remarque que la classe 1 est au centre des quatre autres. Donc ces points ce mélange avec ces classes, comme on peut le voir dans la matrice. Les résultats des autres classes sont meilleurs car elles ont de nombreux points à l'extérieur des classes, donc sans ambiguité. \n",
    "\n",
    "### Distance de mahalanobis"
   ],
   "cell_type": "markdown",
   "metadata": {}
  },
  {
   "cell_type": "code",
   "execution_count": 9,
   "metadata": {},
   "outputs": [],
   "source": [
    "# print(\"Dataset 1:\")\n",
    "# gaussian_model = GaussianModel()\n",
    "# gaussian_model.gaussian_fit_model(split_data_tp1_app)\n",
    "# gaussian_model.print_classes_centers()\n",
    "# gaussian_model.plot_train_data()\n",
    "# gaussian_model.compute_method = \"mahalanobis\"\n",
    "# gaussian_model.test_model(split_data_tp1_dec)\n",
    "# gaussian_model.print_model_result()\n",
    "# gaussian_model.plot_test_data()"
   ]
  },
  {
   "cell_type": "code",
   "execution_count": 10,
   "metadata": {},
   "outputs": [],
   "source": [
    "# print(\"Dataset 2:\")\n",
    "# gaussian_model = GaussianModel()\n",
    "# gaussian_model.gaussian_fit_model(split_data_tp2_app)\n",
    "# gaussian_model.print_classes_centers()\n",
    "# gaussian_model.plot_train_data()\n",
    "# gaussian_model.compute_method = \"mahalanobis\"\n",
    "# gaussian_model.test_model(split_data_tp2_dec)\n",
    "# gaussian_model.print_model_result()\n",
    "# gaussian_model.plot_test_data()"
   ]
  },
  {
   "cell_type": "code",
   "execution_count": 11,
   "metadata": {},
   "outputs": [],
   "source": [
    "# print(\"Dataset 3:\")\n",
    "# gaussian_model = GaussianModel()\n",
    "# gaussian_model.gaussian_fit_model(split_data_tp3_app)\n",
    "# gaussian_model.print_classes_centers()\n",
    "# gaussian_model.plot_train_data()\n",
    "# gaussian_model.compute_method = \"mahalanobis\"\n",
    "# gaussian_model.test_model(split_data_tp3_dec)\n",
    "# gaussian_model.print_model_result()\n",
    "# gaussian_model.plot_test_data()"
   ]
  },
  {
   "source": [
    "La deuxième analyse réalisée sur les 3 datasets avec l'utilisation de la distance de Mahalanobis n'améliore pas les résultats de Top 1 et un tout petit peu ceux de Top 2 pour le dataset numéro 3. Donc utiliser une distance de Mahalanobis peu être recommandé pour des données moins bien discriminé. Et couplé avec une méthode de bagging. \n",
    "\n",
    "### Comparaison avec scikit learn\n"
   ],
   "cell_type": "markdown",
   "metadata": {}
  },
  {
   "cell_type": "code",
   "execution_count": 12,
   "metadata": {},
   "outputs": [],
   "source": [
    "# from sklearn.mixture import GaussianMixture\n",
    "# gm = GaussianMixture(n_components=2, random_state=0).fit(X)\n",
    "# gm.predict([[0, 0], [12, 3]])\n"
   ]
  },
  {
   "source": [
    "## K plus proches voisins\n",
    "\n",
    "### Analyse à 1ppv\n",
    "\n",
    "#### Dataset 1"
   ],
   "cell_type": "markdown",
   "metadata": {}
  },
  {
   "cell_type": "code",
   "execution_count": 13,
   "metadata": {},
   "outputs": [],
   "source": [
    "# kppv = KppvModel()\n",
    "# kppv.k = 1\n",
    "# kppv.vote_method = \"unanimous\"\n",
    "# kppv.compute_kppv(split_data_tp1_app, split_data_tp1_dec)\n",
    "# kppv.print_model_result()\n",
    "# kppv.plot_test_data()"
   ]
  },
  {
   "source": [
    "L'analyse par kppv à 1 voisin, montre un bon taux de classement pour le premier jeu de données. En effet on remarque que le taux de bonne classification est de 99%. La matrice de confusion montre que 4 valeurs on été mal classées. Le graphique indique que ces 4 valeurs ont des positions ambigues entre deux classes. \n",
    "\n",
    "#### Dataset 2"
   ],
   "cell_type": "markdown",
   "metadata": {}
  },
  {
   "cell_type": "code",
   "execution_count": 14,
   "metadata": {},
   "outputs": [],
   "source": [
    "# kppv = KppvModel()\n",
    "# kppv.k = 1\n",
    "# kppv.vote_method = \"unanimous\"\n",
    "# kppv.compute_kppv(split_data_tp2_app, split_data_tp2_dec)\n",
    "# kppv.print_model_result()\n",
    "# kppv.plot_test_data()"
   ]
  },
  {
   "source": [
    "Les résultats de classifications avec un 1 plus proche voisin montre un taux de bonne classification moins bon que celui du dataset 1 et aussi moins bon qu'avec la methode d'estimation gaussienne (92% de top 1 contre 94% avec l'estimation). Comme pour la précédente méthode, la classe la moins bien classé est la 3. Donc un plus proche voisin ne permet pas distinguer les points se trouvant plus vers d'autres classes, comme le montre le graphique de résultats de tests.\n",
    "\n",
    "#### Dataset 3"
   ],
   "cell_type": "markdown",
   "metadata": {}
  },
  {
   "cell_type": "code",
   "execution_count": 15,
   "metadata": {},
   "outputs": [],
   "source": [
    "# kppv = KppvModel()\n",
    "# kppv.k = 1\n",
    "# kppv.vote_method = \"unanimous\"\n",
    "# kppv.compute_kppv(split_data_tp3_app, split_data_tp3_dec)\n",
    "# kppv.print_model_result()\n",
    "# kppv.plot_test_data()"
   ]
  },
  {
   "source": [
    "La classification du troisième dataset avec un plus proche voisin est mauvaise. En effet seul 65% des points sont bien classés. Ce résultat est moins bon que celui de l'estimation gaussienne (73%). Comme pour cette méthode la classe la moins classé est la classe 1. Cette classe est centrale donc tout les points se mélangent en partie avec les autres. \n",
    "\n",
    "### kppv avec cross-validation\n",
    "\n",
    "Nous allons maintenant essayer de trouver le meilleur K possible pour chaque dataset par cross-validation. Un fois ce k trouvé, on va l'utiliser avec le jeu de données de test. Et voir si un K > 1 améliore le taux de bonne classification. Pour cela nous allons comparer deux méthodes pour chaque jeux de données, un vote à la majorité et à l'unanimité.\n",
    "\n",
    "#### Dataset 1"
   ],
   "cell_type": "markdown",
   "metadata": {}
  },
  {
   "cell_type": "code",
   "execution_count": 16,
   "metadata": {},
   "outputs": [],
   "source": [
    "# kppv = KppvModel()\n",
    "# kppv.vote_method = \"majority\"\n",
    "# kppv.get_k_cross_validation(split_data_tp1_app, 10, 5)\n",
    "# kppv.compute_kppv(split_data_tp1_app, split_data_tp1_dec)\n",
    "# kppv.print_model_result()\n",
    "# kppv.plot_test_data()"
   ]
  },
  {
   "cell_type": "code",
   "execution_count": 17,
   "metadata": {},
   "outputs": [],
   "source": [
    "# kppv = KppvModel()\n",
    "# kppv.vote_method = \"unanimous\"\n",
    "# kppv.get_k_cross_validation(split_data_tp1_app, 10, 5)\n",
    "# kppv.compute_kppv(split_data_tp1_app, split_data_tp1_dec)\n",
    "# kppv.print_model_result()\n",
    "# kppv.plot_test_data()"
   ]
  },
  {
   "source": [
    "Pour le premier jeu de données, chercher le meilleur K avec la cross-validation n'est pas nécéssaire. En effet, ce jeu de données est suffisament bien discriminé. Donc le meilleur k trouvé est 1. Sachant que pour k = 1, les votes à la majorité et à l'unanimité sont identiques on ne peut pas conclure sur le efficacité. On obtient donc les même résultats que précédement.\n",
    "\n",
    "#### Dataset 2"
   ],
   "cell_type": "markdown",
   "metadata": {}
  },
  {
   "cell_type": "code",
   "execution_count": 18,
   "metadata": {},
   "outputs": [],
   "source": [
    "# kppv = KppvModel()\n",
    "# kppv.vote_method = \"majority\"\n",
    "# kppv.get_k_cross_validation(split_data_tp2_app, 50, 5)\n",
    "# kppv.compute_kppv(split_data_tp2_app, split_data_tp2_dec)\n",
    "# kppv.print_model_result()\n",
    "# kppv.plot_test_data()"
   ]
  },
  {
   "cell_type": "code",
   "execution_count": 19,
   "metadata": {},
   "outputs": [],
   "source": [
    "# kppv = KppvModel()\n",
    "# kppv.vote_method = \"unanimous\"\n",
    "# kppv.get_k_cross_validation(split_data_tp2_app, 50, 5)\n",
    "# kppv.compute_kppv(split_data_tp2_app, split_data_tp2_dec)\n",
    "# kppv.print_model_result()\n",
    "# kppv.plot_test_data()"
   ]
  },
  {
   "source": [
    "Pour l'analyse du deuxième jeu de données, on remarque une grosse disparité entre les votes à la majorité et à l'unanimité. Dans les deux cas, la cross-validation trouve une valeur de K optimal = **TODO**. Les K supérieur ont des taux d'erreur supérieur ce qui pourrait être dû au sur-apprentissage. Lorsque que l'on compare les résultats sur le jeu de test, on remarque que pour le vote à la majorité le taux de Top 1 a augmenté en passant de 92% à **TODO**%. En revanche pour le vote à l'unanimité, le taux de Top 1 est de seulement **TODO** avec un taux d'erreur de **TODO**. Ce taux Top 1 faible est dû aux cas ou il y a plusieurs classes possible trouvé. Le vote à l'unanimité ne peux pas gérer ces cas alors que celui à la majorité oui. L'étude des tableaux ou des graphs montre des résultats similaire entre les deux. En effet j'ai décidé de remplir les tableaux sans tenir compte des erreurs. Dans tous les cas le tableau est rempli avec la valeur majoritaire. La différence entre les tableaux est donc expliqué uniquement par la différence de K. Dans ce cas on remarque qu'un K **TODO** donne un meilleur résultats.\n",
    "\n",
    "#### Dataset 3"
   ],
   "cell_type": "markdown",
   "metadata": {}
  },
  {
   "cell_type": "code",
   "execution_count": 20,
   "metadata": {},
   "outputs": [],
   "source": [
    "# kppv = KppvModel()\n",
    "# kppv.vote_method = \"majority\"\n",
    "# kppv.get_k_cross_validation(split_data_tp3_app, 50, 5)\n",
    "# kppv.compute_kppv(split_data_tp3_app, split_data_tp3_dec)\n",
    "# kppv.print_model_result()\n",
    "# kppv.plot_test_data()"
   ]
  },
  {
   "cell_type": "code",
   "execution_count": 21,
   "metadata": {},
   "outputs": [],
   "source": [
    "# kppv = KppvModel()\n",
    "# kppv.vote_method = \"unanimous\"\n",
    "# kppv.get_k_cross_validation(split_data_tp3_app, 50, 5)\n",
    "# kppv.compute_kppv(split_data_tp3_app, split_data_tp3_dec)\n",
    "# kppv.print_model_result()\n",
    "# kppv.plot_test_data()"
   ]
  },
  {
   "source": [
    "Pour ce dernier jeu de données, sont similaire à ceux du deuxième jeu de données. En effet, les valeurs de K trouvés par cross-validation sont similaire, comme précédement les taux Top 1 sont meilleurs pour le vote à la majorité. Et encore une fois lorsque l'on compare les résultats du tableau et du graphique on remarque qu'un K plus grand permet de meilleurs résultats donc ce n'est pas le sur-apprentissage qui explique l'augmentation du taux d'erreur lors de la cross-validation. \n",
    "\n",
    "La méthode de classification par Kppv ne semble pas plus performante que l'estimation gaussienne alors que le modèle est plus lent et plus complexe. \n",
    "\n",
    "### Comparaison avec scikit-learn"
   ],
   "cell_type": "markdown",
   "metadata": {}
  },
  {
   "cell_type": "code",
   "execution_count": null,
   "metadata": {},
   "outputs": [],
   "source": []
  },
  {
   "source": [
    "## Methode de Parzen\n",
    "Comme précédement pour le kppv, la méthode de Parzen est un modèle paramétrique. Dans ce cas le paramètre est noté h et correspond à la largeur de la fonction uniforme ou à l'écart-type de la fonction gaussienne. Comme précédement, cet hyper-paramètre doit être trouvé. Nous allons donc utiliser la méthode de la cross-validation. En effet étudier le modèle avec un h aléatoire n'est pas pertinent. \n",
    "### Noyau uniforme\n",
    "Pour le noyau uniforme j'ai décidé de tester tout les h possible entre 0,1 et 5 avec un pas de 0,1. J'ai décidé d'aller j'usqu'a 5 car cela représente environ la moitité de la taille des classes.\n",
    "#### Dataset 1"
   ],
   "cell_type": "markdown",
   "metadata": {}
  },
  {
   "cell_type": "code",
   "execution_count": 22,
   "metadata": {
    "tags": []
   },
   "outputs": [],
   "source": [
    "# parzen = ParzenModel()\n",
    "# h_list = np.arange(0.1, 5, 0.1)\n",
    "# parzen.method = \"uniform\"\n",
    "# parzen.get_h_cross_validation(split_data_tp1_app, h_list, 5)\n",
    "# parzen.compute_parzen(split_data_tp1_app, split_data_tp1_dec)\n",
    "# parzen.print_model_result()\n",
    "# parzen.plot_test_data()"
   ]
  },
  {
   "source": [
    "L'analyse de l'hyperparamètre h montre que pour la méthode uniforme plus le h est important plus le taux d'erreur est faible avec un plateau atteint aux environ de 2. Finalement le taux de bonne classification est identiques aux autres modèles de classification. \n",
    "#### Dataset 2"
   ],
   "cell_type": "markdown",
   "metadata": {}
  },
  {
   "cell_type": "code",
   "execution_count": 23,
   "metadata": {},
   "outputs": [],
   "source": [
    "# parzen = ParzenModel()\n",
    "# h_list = np.arange(0.1, 5, 0.1)\n",
    "# parzen.method = \"uniform\"\n",
    "# parzen.get_h_cross_validation(split_data_tp2_app, h_list, 5)\n",
    "# parzen.compute_parzen(split_data_tp2_app, split_data_tp2_dec)\n",
    "# parzen.print_model_result()\n",
    "# parzen.plot_test_data()"
   ]
  },
  {
   "source": [
    "#### Dataset 3"
   ],
   "cell_type": "markdown",
   "metadata": {}
  },
  {
   "cell_type": "code",
   "execution_count": 24,
   "metadata": {},
   "outputs": [],
   "source": [
    "# parzen = ParzenModel()\n",
    "# h_list = np.arange(0.1, 5, 0.1)\n",
    "# parzen.method = \"uniform\"\n",
    "# parzen.get_h_cross_validation(split_data_tp3_app, h_list, 5)\n",
    "# parzen.compute_parzen(split_data_tp3_app, split_data_tp3_dec)\n",
    "# parzen.print_model_result()\n",
    "# parzen.plot_test_data()"
   ]
  },
  {
   "source": [
    "### Comparaison avec scikit learn"
   ],
   "cell_type": "markdown",
   "metadata": {}
  },
  {
   "cell_type": "code",
   "execution_count": null,
   "metadata": {},
   "outputs": [],
   "source": []
  },
  {
   "source": [
    "## Séparation linéaire"
   ],
   "cell_type": "markdown",
   "metadata": {}
  },
  {
   "cell_type": "code",
   "execution_count": 25,
   "metadata": {
    "tags": []
   },
   "outputs": [
    {
     "output_type": "stream",
     "name": "stdout",
     "text": [
      "Linear Seaparation Model created\n",
      "================================\n",
      "Begin linear training\n",
      "hyperplan ('1', '2') done.\n",
      "hyperplan ('1', '3') done.\n",
      "hyperplan ('1', '4') done.\n",
      "hyperplan ('1', '5') done.\n",
      "hyperplan ('2', '3') done.\n",
      "hyperplan ('2', '4') done.\n",
      "hyperplan ('2', '5') done.\n",
      "hyperplan ('3', '4') done.\n",
      "hyperplan ('3', '5') done.\n",
      "hyperplan ('4', '5') done.\n",
      "Training done\n",
      "================================\n",
      "The hyperplan between 1 and 2 is [-12.527644, 1.1843279999999998, 0.0]\n",
      "The hyperplan between 1 and 3 is [-6.315382, 6.344938, 1.0]\n",
      "The hyperplan between 1 and 4 is [0.5455020000000008, 12.073574, 0.0]\n",
      "The hyperplan between 1 and 5 is [-1.2287560000000002, 3.0565520000000013, -13.0]\n",
      "The hyperplan between 2 and 3 is [4.274954000000001, 13.146555000000001, 1.0]\n",
      "The hyperplan between 2 and 4 is [3.043789, 6.633307, 1.0]\n",
      "The hyperplan between 2 and 5 is [4.288296999999989, 8.924386000000005, -45.0]\n",
      "The hyperplan between 3 and 4 is [16.061825, 0.5501550000000002, 1.0]\n",
      "The hyperplan between 3 and 5 is [3.655844, -2.9535270000000002, -15.0]\n",
      "The hyperplan between 4 and 5 is [-4.853987000000001, -3.230916000000002, -20.0]\n",
      "======================\n",
      "Results :\n",
      "----------------\n",
      "\n",
      "Top results :\n",
      "----------------\n",
      "Top 1 rate :  0.994\n",
      "Top 2 rate :  1.0\n",
      "----------------\n",
      "\n",
      "Confusion matrix :\n",
      "----------------\n",
      "╒════╤═════╤═════╤═════╤═════╤═════╕\n",
      "│    │   1 │   2 │   3 │   4 │   5 │\n",
      "╞════╪═════╪═════╪═════╪═════╪═════╡\n",
      "│  1 │  99 │   0 │   0 │   0 │   1 │\n",
      "├────┼─────┼─────┼─────┼─────┼─────┤\n",
      "│  2 │   0 │ 100 │   0 │   0 │   0 │\n",
      "├────┼─────┼─────┼─────┼─────┼─────┤\n",
      "│  3 │   0 │   0 │  99 │   1 │   0 │\n",
      "├────┼─────┼─────┼─────┼─────┼─────┤\n",
      "│  4 │   0 │   0 │   0 │ 100 │   0 │\n",
      "├────┼─────┼─────┼─────┼─────┼─────┤\n",
      "│  5 │   1 │   0 │   0 │   0 │  99 │\n",
      "╘════╧═════╧═════╧═════╧═════╧═════╛\n",
      "----------------\n",
      "[-12.527644, 1.1843279999999998, 0.0]\n",
      "1\n",
      "(array([ 0,  1,  2,  3,  4,  5,  6,  7,  8,  9, 10, 11, 12, 13, 14, 15, 16,\n",
      "       17, 18, 19, 20, 21, 22, 23, 24, 25, 26, 27, 28, 29, 30, 31, 32, 33,\n",
      "       34, 35, 36, 37, 38, 39, 40, 41, 42, 43, 44, 45, 46, 47, 48, 49, 50,\n",
      "       51, 52, 53, 54, 55, 56, 57, 58, 59, 60, 61, 62, 63, 64, 65, 66, 67,\n",
      "       68, 69, 70, 71, 72, 73, 74, 75, 76, 77, 78, 79, 80, 81, 82, 83, 84,\n",
      "       85, 86, 87, 88, 89, 90, 91, 92, 93, 94, 95, 96, 97, 98, 99]),)\n",
      "2\n",
      "(array([100, 101, 102, 103, 104, 105, 106, 107, 108, 109, 110, 111, 112,\n",
      "       113, 114, 115, 116, 117, 118, 119, 120, 121, 122, 123, 124, 125,\n",
      "       126, 127, 128, 129, 130, 131, 132, 133, 134, 135, 136, 137, 138,\n",
      "       139, 140, 141, 142, 143, 144, 145, 146, 147, 148, 149, 150, 151,\n",
      "       152, 153, 154, 155, 156, 157, 158, 159, 160, 161, 162, 163, 164,\n",
      "       165, 166, 167, 168, 169, 170, 171, 172, 173, 174, 175, 176, 177,\n",
      "       178, 179, 180, 181, 182, 183, 184, 185, 186, 187, 188, 189, 190,\n",
      "       191, 192, 193, 194, 195, 196, 197, 198, 199]),)\n"
     ]
    },
    {
     "output_type": "display_data",
     "data": {
      "text/plain": "<Figure size 432x288 with 1 Axes>",
      "image/svg+xml": "<?xml version=\"1.0\" encoding=\"utf-8\" standalone=\"no\"?>\n<!DOCTYPE svg PUBLIC \"-//W3C//DTD SVG 1.1//EN\"\n  \"http://www.w3.org/Graphics/SVG/1.1/DTD/svg11.dtd\">\n<!-- Created with matplotlib (https://matplotlib.org/) -->\n<svg height=\"248.518125pt\" version=\"1.1\" viewBox=\"0 0 377.304688 248.518125\" width=\"377.304688pt\" xmlns=\"http://www.w3.org/2000/svg\" xmlns:xlink=\"http://www.w3.org/1999/xlink\">\n <metadata>\n  <rdf:RDF xmlns:cc=\"http://creativecommons.org/ns#\" xmlns:dc=\"http://purl.org/dc/elements/1.1/\" xmlns:rdf=\"http://www.w3.org/1999/02/22-rdf-syntax-ns#\">\n   <cc:Work>\n    <dc:type rdf:resource=\"http://purl.org/dc/dcmitype/StillImage\"/>\n    <dc:date>2021-05-06T22:16:06.305740</dc:date>\n    <dc:format>image/svg+xml</dc:format>\n    <dc:creator>\n     <cc:Agent>\n      <dc:title>Matplotlib v3.3.3, https://matplotlib.org/</dc:title>\n     </cc:Agent>\n    </dc:creator>\n   </cc:Work>\n  </rdf:RDF>\n </metadata>\n <defs>\n  <style type=\"text/css\">*{stroke-linecap:butt;stroke-linejoin:round;}</style>\n </defs>\n <g id=\"figure_1\">\n  <g id=\"patch_1\">\n   <path d=\"M 0 248.518125 \nL 377.304688 248.518125 \nL 377.304688 0 \nL 0 0 \nz\n\" style=\"fill:none;\"/>\n  </g>\n  <g id=\"axes_1\">\n   <g id=\"patch_2\">\n    <path d=\"M 35.304688 224.64 \nL 370.104688 224.64 \nL 370.104688 7.2 \nL 35.304688 7.2 \nz\n\" style=\"fill:#ffffff;\"/>\n   </g>\n   <g id=\"PathCollection_1\">\n    <defs>\n     <path d=\"M 0 3 \nC 0.795609 3 1.55874 2.683901 2.12132 2.12132 \nC 2.683901 1.55874 3 0.795609 3 -0 \nC 3 -0.795609 2.683901 -1.55874 2.12132 -2.12132 \nC 1.55874 -2.683901 0.795609 -3 0 -3 \nC -0.795609 -3 -1.55874 -2.683901 -2.12132 -2.12132 \nC -2.683901 -1.55874 -3 -0.795609 -3 0 \nC -3 0.795609 -2.683901 1.55874 -2.12132 2.12132 \nC -1.55874 2.683901 -0.795609 3 0 3 \nz\n\" id=\"C0_0_983001407c\"/>\n    </defs>\n    <g clip-path=\"url(#p140c1195b2)\">\n     <use style=\"fill:#1f77b4;stroke:#1f77b4;\" x=\"136.446777\" xlink:href=\"#C0_0_983001407c\" y=\"75.140375\"/>\n    </g>\n    <g clip-path=\"url(#p140c1195b2)\">\n     <use style=\"fill:#1f77b4;stroke:#1f77b4;\" x=\"171.433853\" xlink:href=\"#C0_0_983001407c\" y=\"69.950147\"/>\n    </g>\n    <g clip-path=\"url(#p140c1195b2)\">\n     <use style=\"fill:#1f77b4;stroke:#1f77b4;\" x=\"131.232626\" xlink:href=\"#C0_0_983001407c\" y=\"65.440608\"/>\n    </g>\n    <g clip-path=\"url(#p140c1195b2)\">\n     <use style=\"fill:#1f77b4;stroke:#1f77b4;\" x=\"118.545451\" xlink:href=\"#C0_0_983001407c\" y=\"82.1969\"/>\n    </g>\n    <g clip-path=\"url(#p140c1195b2)\">\n     <use style=\"fill:#1f77b4;stroke:#1f77b4;\" x=\"121.415447\" xlink:href=\"#C0_0_983001407c\" y=\"48.95115\"/>\n    </g>\n    <g clip-path=\"url(#p140c1195b2)\">\n     <use style=\"fill:#1f77b4;stroke:#1f77b4;\" x=\"121.437656\" xlink:href=\"#C0_0_983001407c\" y=\"85.923995\"/>\n    </g>\n    <g clip-path=\"url(#p140c1195b2)\">\n     <use style=\"fill:#1f77b4;stroke:#1f77b4;\" x=\"84.144072\" xlink:href=\"#C0_0_983001407c\" y=\"60.606718\"/>\n    </g>\n    <g clip-path=\"url(#p140c1195b2)\">\n     <use style=\"fill:#1f77b4;stroke:#1f77b4;\" x=\"140.470291\" xlink:href=\"#C0_0_983001407c\" y=\"59.44005\"/>\n    </g>\n    <g clip-path=\"url(#p140c1195b2)\">\n     <use style=\"fill:#1f77b4;stroke:#1f77b4;\" x=\"50.522869\" xlink:href=\"#C0_0_983001407c\" y=\"85.40279\"/>\n    </g>\n    <g clip-path=\"url(#p140c1195b2)\">\n     <use style=\"fill:#1f77b4;stroke:#1f77b4;\" x=\"120.444539\" xlink:href=\"#C0_0_983001407c\" y=\"43.883696\"/>\n    </g>\n    <g clip-path=\"url(#p140c1195b2)\">\n     <use style=\"fill:#1f77b4;stroke:#1f77b4;\" x=\"77.770204\" xlink:href=\"#C0_0_983001407c\" y=\"98.201063\"/>\n    </g>\n    <g clip-path=\"url(#p140c1195b2)\">\n     <use style=\"fill:#1f77b4;stroke:#1f77b4;\" x=\"192.177398\" xlink:href=\"#C0_0_983001407c\" y=\"75.041539\"/>\n    </g>\n    <g clip-path=\"url(#p140c1195b2)\">\n     <use style=\"fill:#1f77b4;stroke:#1f77b4;\" x=\"162.457235\" xlink:href=\"#C0_0_983001407c\" y=\"64.925505\"/>\n    </g>\n    <g clip-path=\"url(#p140c1195b2)\">\n     <use style=\"fill:#1f77b4;stroke:#1f77b4;\" x=\"124.632155\" xlink:href=\"#C0_0_983001407c\" y=\"58.385702\"/>\n    </g>\n    <g clip-path=\"url(#p140c1195b2)\">\n     <use style=\"fill:#1f77b4;stroke:#1f77b4;\" x=\"94.441733\" xlink:href=\"#C0_0_983001407c\" y=\"76.161133\"/>\n    </g>\n    <g clip-path=\"url(#p140c1195b2)\">\n     <use style=\"fill:#1f77b4;stroke:#1f77b4;\" x=\"111.947624\" xlink:href=\"#C0_0_983001407c\" y=\"65.986809\"/>\n    </g>\n    <g clip-path=\"url(#p140c1195b2)\">\n     <use style=\"fill:#1f77b4;stroke:#1f77b4;\" x=\"125.759175\" xlink:href=\"#C0_0_983001407c\" y=\"70.573595\"/>\n    </g>\n    <g clip-path=\"url(#p140c1195b2)\">\n     <use style=\"fill:#1f77b4;stroke:#1f77b4;\" x=\"95.688363\" xlink:href=\"#C0_0_983001407c\" y=\"83.640222\"/>\n    </g>\n    <g clip-path=\"url(#p140c1195b2)\">\n     <use style=\"fill:#1f77b4;stroke:#1f77b4;\" x=\"102.166448\" xlink:href=\"#C0_0_983001407c\" y=\"61.040402\"/>\n    </g>\n    <g clip-path=\"url(#p140c1195b2)\">\n     <use style=\"fill:#1f77b4;stroke:#1f77b4;\" x=\"114.929431\" xlink:href=\"#C0_0_983001407c\" y=\"68.699124\"/>\n    </g>\n    <g clip-path=\"url(#p140c1195b2)\">\n     <use style=\"fill:#1f77b4;stroke:#1f77b4;\" x=\"115.173733\" xlink:href=\"#C0_0_983001407c\" y=\"57.676548\"/>\n    </g>\n    <g clip-path=\"url(#p140c1195b2)\">\n     <use style=\"fill:#1f77b4;stroke:#1f77b4;\" x=\"51.762713\" xlink:href=\"#C0_0_983001407c\" y=\"71.869059\"/>\n    </g>\n    <g clip-path=\"url(#p140c1195b2)\">\n     <use style=\"fill:#1f77b4;stroke:#1f77b4;\" x=\"122.627162\" xlink:href=\"#C0_0_983001407c\" y=\"50.379564\"/>\n    </g>\n    <g clip-path=\"url(#p140c1195b2)\">\n     <use style=\"fill:#1f77b4;stroke:#1f77b4;\" x=\"103.778577\" xlink:href=\"#C0_0_983001407c\" y=\"41.132375\"/>\n    </g>\n    <g clip-path=\"url(#p140c1195b2)\">\n     <use style=\"fill:#1f77b4;stroke:#1f77b4;\" x=\"120.687431\" xlink:href=\"#C0_0_983001407c\" y=\"66.964033\"/>\n    </g>\n    <g clip-path=\"url(#p140c1195b2)\">\n     <use style=\"fill:#1f77b4;stroke:#1f77b4;\" x=\"99.223214\" xlink:href=\"#C0_0_983001407c\" y=\"50.510531\"/>\n    </g>\n    <g clip-path=\"url(#p140c1195b2)\">\n     <use style=\"fill:#1f77b4;stroke:#1f77b4;\" x=\"92.594159\" xlink:href=\"#C0_0_983001407c\" y=\"63.790878\"/>\n    </g>\n    <g clip-path=\"url(#p140c1195b2)\">\n     <use style=\"fill:#1f77b4;stroke:#1f77b4;\" x=\"135.728881\" xlink:href=\"#C0_0_983001407c\" y=\"65.514359\"/>\n    </g>\n    <g clip-path=\"url(#p140c1195b2)\">\n     <use style=\"fill:#1f77b4;stroke:#1f77b4;\" x=\"119.514891\" xlink:href=\"#C0_0_983001407c\" y=\"65.602147\"/>\n    </g>\n    <g clip-path=\"url(#p140c1195b2)\">\n     <use style=\"fill:#1f77b4;stroke:#1f77b4;\" x=\"78.809224\" xlink:href=\"#C0_0_983001407c\" y=\"71.191385\"/>\n    </g>\n    <g clip-path=\"url(#p140c1195b2)\">\n     <use style=\"fill:#1f77b4;stroke:#1f77b4;\" x=\"77.638638\" xlink:href=\"#C0_0_983001407c\" y=\"60.071317\"/>\n    </g>\n    <g clip-path=\"url(#p140c1195b2)\">\n     <use style=\"fill:#1f77b4;stroke:#1f77b4;\" x=\"101.654679\" xlink:href=\"#C0_0_983001407c\" y=\"95.736902\"/>\n    </g>\n    <g clip-path=\"url(#p140c1195b2)\">\n     <use style=\"fill:#1f77b4;stroke:#1f77b4;\" x=\"114.582381\" xlink:href=\"#C0_0_983001407c\" y=\"53.199086\"/>\n    </g>\n    <g clip-path=\"url(#p140c1195b2)\">\n     <use style=\"fill:#1f77b4;stroke:#1f77b4;\" x=\"135.212559\" xlink:href=\"#C0_0_983001407c\" y=\"51.669567\"/>\n    </g>\n    <g clip-path=\"url(#p140c1195b2)\">\n     <use style=\"fill:#1f77b4;stroke:#1f77b4;\" x=\"137.84758\" xlink:href=\"#C0_0_983001407c\" y=\"62.137856\"/>\n    </g>\n    <g clip-path=\"url(#p140c1195b2)\">\n     <use style=\"fill:#1f77b4;stroke:#1f77b4;\" x=\"98.66356\" xlink:href=\"#C0_0_983001407c\" y=\"74.20181\"/>\n    </g>\n    <g clip-path=\"url(#p140c1195b2)\">\n     <use style=\"fill:#1f77b4;stroke:#1f77b4;\" x=\"89.509561\" xlink:href=\"#C0_0_983001407c\" y=\"87.114041\"/>\n    </g>\n    <g clip-path=\"url(#p140c1195b2)\">\n     <use style=\"fill:#1f77b4;stroke:#1f77b4;\" x=\"165.723591\" xlink:href=\"#C0_0_983001407c\" y=\"55.310182\"/>\n    </g>\n    <g clip-path=\"url(#p140c1195b2)\">\n     <use style=\"fill:#1f77b4;stroke:#1f77b4;\" x=\"118.124943\" xlink:href=\"#C0_0_983001407c\" y=\"66.340559\"/>\n    </g>\n    <g clip-path=\"url(#p140c1195b2)\">\n     <use style=\"fill:#1f77b4;stroke:#1f77b4;\" x=\"95.749586\" xlink:href=\"#C0_0_983001407c\" y=\"68.162672\"/>\n    </g>\n    <g clip-path=\"url(#p140c1195b2)\">\n     <use style=\"fill:#1f77b4;stroke:#1f77b4;\" x=\"179.415972\" xlink:href=\"#C0_0_983001407c\" y=\"39.61861\"/>\n    </g>\n    <g clip-path=\"url(#p140c1195b2)\">\n     <use style=\"fill:#1f77b4;stroke:#1f77b4;\" x=\"109.960478\" xlink:href=\"#C0_0_983001407c\" y=\"55.128219\"/>\n    </g>\n    <g clip-path=\"url(#p140c1195b2)\">\n     <use style=\"fill:#1f77b4;stroke:#1f77b4;\" x=\"124.678395\" xlink:href=\"#C0_0_983001407c\" y=\"72.893322\"/>\n    </g>\n    <g clip-path=\"url(#p140c1195b2)\">\n     <use style=\"fill:#1f77b4;stroke:#1f77b4;\" x=\"110.75499\" xlink:href=\"#C0_0_983001407c\" y=\"68.667314\"/>\n    </g>\n    <g clip-path=\"url(#p140c1195b2)\">\n     <use style=\"fill:#1f77b4;stroke:#1f77b4;\" x=\"136.725245\" xlink:href=\"#C0_0_983001407c\" y=\"58.090884\"/>\n    </g>\n    <g clip-path=\"url(#p140c1195b2)\">\n     <use style=\"fill:#1f77b4;stroke:#1f77b4;\" x=\"112.103618\" xlink:href=\"#C0_0_983001407c\" y=\"80.166724\"/>\n    </g>\n    <g clip-path=\"url(#p140c1195b2)\">\n     <use style=\"fill:#1f77b4;stroke:#1f77b4;\" x=\"105.905971\" xlink:href=\"#C0_0_983001407c\" y=\"66.207298\"/>\n    </g>\n    <g clip-path=\"url(#p140c1195b2)\">\n     <use style=\"fill:#1f77b4;stroke:#1f77b4;\" x=\"112.719428\" xlink:href=\"#C0_0_983001407c\" y=\"81.571788\"/>\n    </g>\n    <g clip-path=\"url(#p140c1195b2)\">\n     <use style=\"fill:#1f77b4;stroke:#1f77b4;\" x=\"149.547145\" xlink:href=\"#C0_0_983001407c\" y=\"75.983769\"/>\n    </g>\n    <g clip-path=\"url(#p140c1195b2)\">\n     <use style=\"fill:#1f77b4;stroke:#1f77b4;\" x=\"111.246973\" xlink:href=\"#C0_0_983001407c\" y=\"65.905817\"/>\n    </g>\n    <g clip-path=\"url(#p140c1195b2)\">\n     <use style=\"fill:#1f77b4;stroke:#1f77b4;\" x=\"135.051762\" xlink:href=\"#C0_0_983001407c\" y=\"61.579744\"/>\n    </g>\n    <g clip-path=\"url(#p140c1195b2)\">\n     <use style=\"fill:#1f77b4;stroke:#1f77b4;\" x=\"109.887857\" xlink:href=\"#C0_0_983001407c\" y=\"58.412193\"/>\n    </g>\n    <g clip-path=\"url(#p140c1195b2)\">\n     <use style=\"fill:#1f77b4;stroke:#1f77b4;\" x=\"143.702466\" xlink:href=\"#C0_0_983001407c\" y=\"52.026208\"/>\n    </g>\n    <g clip-path=\"url(#p140c1195b2)\">\n     <use style=\"fill:#1f77b4;stroke:#1f77b4;\" x=\"144.777033\" xlink:href=\"#C0_0_983001407c\" y=\"51.397272\"/>\n    </g>\n    <g clip-path=\"url(#p140c1195b2)\">\n     <use style=\"fill:#1f77b4;stroke:#1f77b4;\" x=\"153.359318\" xlink:href=\"#C0_0_983001407c\" y=\"67.770619\"/>\n    </g>\n    <g clip-path=\"url(#p140c1195b2)\">\n     <use style=\"fill:#1f77b4;stroke:#1f77b4;\" x=\"133.492497\" xlink:href=\"#C0_0_983001407c\" y=\"58.656717\"/>\n    </g>\n    <g clip-path=\"url(#p140c1195b2)\">\n     <use style=\"fill:#1f77b4;stroke:#1f77b4;\" x=\"143.42341\" xlink:href=\"#C0_0_983001407c\" y=\"57.385777\"/>\n    </g>\n    <g clip-path=\"url(#p140c1195b2)\">\n     <use style=\"fill:#1f77b4;stroke:#1f77b4;\" x=\"131.599887\" xlink:href=\"#C0_0_983001407c\" y=\"55.615808\"/>\n    </g>\n    <g clip-path=\"url(#p140c1195b2)\">\n     <use style=\"fill:#1f77b4;stroke:#1f77b4;\" x=\"116.560523\" xlink:href=\"#C0_0_983001407c\" y=\"78.639332\"/>\n    </g>\n    <g clip-path=\"url(#p140c1195b2)\">\n     <use style=\"fill:#1f77b4;stroke:#1f77b4;\" x=\"129.932\" xlink:href=\"#C0_0_983001407c\" y=\"65.148903\"/>\n    </g>\n    <g clip-path=\"url(#p140c1195b2)\">\n     <use style=\"fill:#1f77b4;stroke:#1f77b4;\" x=\"154.25198\" xlink:href=\"#C0_0_983001407c\" y=\"66.302887\"/>\n    </g>\n    <g clip-path=\"url(#p140c1195b2)\">\n     <use style=\"fill:#1f77b4;stroke:#1f77b4;\" x=\"134.030941\" xlink:href=\"#C0_0_983001407c\" y=\"53.74107\"/>\n    </g>\n    <g clip-path=\"url(#p140c1195b2)\">\n     <use style=\"fill:#1f77b4;stroke:#1f77b4;\" x=\"151.852052\" xlink:href=\"#C0_0_983001407c\" y=\"86.391908\"/>\n    </g>\n    <g clip-path=\"url(#p140c1195b2)\">\n     <use style=\"fill:#1f77b4;stroke:#1f77b4;\" x=\"97.068631\" xlink:href=\"#C0_0_983001407c\" y=\"66.093428\"/>\n    </g>\n    <g clip-path=\"url(#p140c1195b2)\">\n     <use style=\"fill:#1f77b4;stroke:#1f77b4;\" x=\"52.963118\" xlink:href=\"#C0_0_983001407c\" y=\"71.679028\"/>\n    </g>\n    <g clip-path=\"url(#p140c1195b2)\">\n     <use style=\"fill:#1f77b4;stroke:#1f77b4;\" x=\"80.912264\" xlink:href=\"#C0_0_983001407c\" y=\"63.00726\"/>\n    </g>\n    <g clip-path=\"url(#p140c1195b2)\">\n     <use style=\"fill:#1f77b4;stroke:#1f77b4;\" x=\"132.198687\" xlink:href=\"#C0_0_983001407c\" y=\"45.618768\"/>\n    </g>\n    <g clip-path=\"url(#p140c1195b2)\">\n     <use style=\"fill:#1f77b4;stroke:#1f77b4;\" x=\"136.641079\" xlink:href=\"#C0_0_983001407c\" y=\"83.335165\"/>\n    </g>\n    <g clip-path=\"url(#p140c1195b2)\">\n     <use style=\"fill:#1f77b4;stroke:#1f77b4;\" x=\"122.90823\" xlink:href=\"#C0_0_983001407c\" y=\"73.288542\"/>\n    </g>\n    <g clip-path=\"url(#p140c1195b2)\">\n     <use style=\"fill:#1f77b4;stroke:#1f77b4;\" x=\"67.654331\" xlink:href=\"#C0_0_983001407c\" y=\"62.679956\"/>\n    </g>\n    <g clip-path=\"url(#p140c1195b2)\">\n     <use style=\"fill:#1f77b4;stroke:#1f77b4;\" x=\"129.448727\" xlink:href=\"#C0_0_983001407c\" y=\"80.370881\"/>\n    </g>\n    <g clip-path=\"url(#p140c1195b2)\">\n     <use style=\"fill:#1f77b4;stroke:#1f77b4;\" x=\"114.927639\" xlink:href=\"#C0_0_983001407c\" y=\"67.797438\"/>\n    </g>\n    <g clip-path=\"url(#p140c1195b2)\">\n     <use style=\"fill:#1f77b4;stroke:#1f77b4;\" x=\"130.549866\" xlink:href=\"#C0_0_983001407c\" y=\"76.194589\"/>\n    </g>\n    <g clip-path=\"url(#p140c1195b2)\">\n     <use style=\"fill:#1f77b4;stroke:#1f77b4;\" x=\"105.554132\" xlink:href=\"#C0_0_983001407c\" y=\"61.777159\"/>\n    </g>\n    <g clip-path=\"url(#p140c1195b2)\">\n     <use style=\"fill:#1f77b4;stroke:#1f77b4;\" x=\"86.530076\" xlink:href=\"#C0_0_983001407c\" y=\"67.320256\"/>\n    </g>\n    <g clip-path=\"url(#p140c1195b2)\">\n     <use style=\"fill:#1f77b4;stroke:#1f77b4;\" x=\"111.996508\" xlink:href=\"#C0_0_983001407c\" y=\"77.972385\"/>\n    </g>\n    <g clip-path=\"url(#p140c1195b2)\">\n     <use style=\"fill:#1f77b4;stroke:#1f77b4;\" x=\"158.03316\" xlink:href=\"#C0_0_983001407c\" y=\"50.941074\"/>\n    </g>\n    <g clip-path=\"url(#p140c1195b2)\">\n     <use style=\"fill:#1f77b4;stroke:#1f77b4;\" x=\"164.467869\" xlink:href=\"#C0_0_983001407c\" y=\"53.745073\"/>\n    </g>\n    <g clip-path=\"url(#p140c1195b2)\">\n     <use style=\"fill:#1f77b4;stroke:#1f77b4;\" x=\"142.709422\" xlink:href=\"#C0_0_983001407c\" y=\"51.99608\"/>\n    </g>\n    <g clip-path=\"url(#p140c1195b2)\">\n     <use style=\"fill:#1f77b4;stroke:#1f77b4;\" x=\"81.897862\" xlink:href=\"#C0_0_983001407c\" y=\"65.791387\"/>\n    </g>\n    <g clip-path=\"url(#p140c1195b2)\">\n     <use style=\"fill:#1f77b4;stroke:#1f77b4;\" x=\"135.77543\" xlink:href=\"#C0_0_983001407c\" y=\"50.733145\"/>\n    </g>\n    <g clip-path=\"url(#p140c1195b2)\">\n     <use style=\"fill:#1f77b4;stroke:#1f77b4;\" x=\"99.899379\" xlink:href=\"#C0_0_983001407c\" y=\"86.763991\"/>\n    </g>\n    <g clip-path=\"url(#p140c1195b2)\">\n     <use style=\"fill:#1f77b4;stroke:#1f77b4;\" x=\"71.813995\" xlink:href=\"#C0_0_983001407c\" y=\"83.218298\"/>\n    </g>\n    <g clip-path=\"url(#p140c1195b2)\">\n     <use style=\"fill:#1f77b4;stroke:#1f77b4;\" x=\"123.509336\" xlink:href=\"#C0_0_983001407c\" y=\"54.602344\"/>\n    </g>\n    <g clip-path=\"url(#p140c1195b2)\">\n     <use style=\"fill:#1f77b4;stroke:#1f77b4;\" x=\"185.098502\" xlink:href=\"#C0_0_983001407c\" y=\"43.154775\"/>\n    </g>\n    <g clip-path=\"url(#p140c1195b2)\">\n     <use style=\"fill:#1f77b4;stroke:#1f77b4;\" x=\"85.646697\" xlink:href=\"#C0_0_983001407c\" y=\"68.495465\"/>\n    </g>\n    <g clip-path=\"url(#p140c1195b2)\">\n     <use style=\"fill:#1f77b4;stroke:#1f77b4;\" x=\"154.778805\" xlink:href=\"#C0_0_983001407c\" y=\"72.323193\"/>\n    </g>\n    <g clip-path=\"url(#p140c1195b2)\">\n     <use style=\"fill:#1f77b4;stroke:#1f77b4;\" x=\"127.094922\" xlink:href=\"#C0_0_983001407c\" y=\"58.204682\"/>\n    </g>\n    <g clip-path=\"url(#p140c1195b2)\">\n     <use style=\"fill:#1f77b4;stroke:#1f77b4;\" x=\"142.924068\" xlink:href=\"#C0_0_983001407c\" y=\"49.354919\"/>\n    </g>\n    <g clip-path=\"url(#p140c1195b2)\">\n     <use style=\"fill:#1f77b4;stroke:#1f77b4;\" x=\"76.324719\" xlink:href=\"#C0_0_983001407c\" y=\"82.087852\"/>\n    </g>\n    <g clip-path=\"url(#p140c1195b2)\">\n     <use style=\"fill:#9467bd;stroke:#1f77b4;\" x=\"196.884363\" xlink:href=\"#C0_0_983001407c\" y=\"93.366862\"/>\n    </g>\n    <g clip-path=\"url(#p140c1195b2)\">\n     <use style=\"fill:#1f77b4;stroke:#1f77b4;\" x=\"74.744567\" xlink:href=\"#C0_0_983001407c\" y=\"84.356956\"/>\n    </g>\n    <g clip-path=\"url(#p140c1195b2)\">\n     <use style=\"fill:#1f77b4;stroke:#1f77b4;\" x=\"86.177929\" xlink:href=\"#C0_0_983001407c\" y=\"93.393344\"/>\n    </g>\n    <g clip-path=\"url(#p140c1195b2)\">\n     <use style=\"fill:#1f77b4;stroke:#1f77b4;\" x=\"90.913977\" xlink:href=\"#C0_0_983001407c\" y=\"54.245534\"/>\n    </g>\n    <g clip-path=\"url(#p140c1195b2)\">\n     <use style=\"fill:#1f77b4;stroke:#1f77b4;\" x=\"149.933472\" xlink:href=\"#C0_0_983001407c\" y=\"85.14044\"/>\n    </g>\n    <g clip-path=\"url(#p140c1195b2)\">\n     <use style=\"fill:#1f77b4;stroke:#1f77b4;\" x=\"113.048484\" xlink:href=\"#C0_0_983001407c\" y=\"48.144725\"/>\n    </g>\n    <g clip-path=\"url(#p140c1195b2)\">\n     <use style=\"fill:#1f77b4;stroke:#1f77b4;\" x=\"135.656539\" xlink:href=\"#C0_0_983001407c\" y=\"63.70735\"/>\n    </g>\n    <g clip-path=\"url(#p140c1195b2)\">\n     <use style=\"fill:#1f77b4;stroke:#1f77b4;\" x=\"141.522663\" xlink:href=\"#C0_0_983001407c\" y=\"42.53823\"/>\n    </g>\n    <g clip-path=\"url(#p140c1195b2)\">\n     <use style=\"fill:#1f77b4;stroke:#1f77b4;\" x=\"131.782953\" xlink:href=\"#C0_0_983001407c\" y=\"68.540893\"/>\n    </g>\n    <g clip-path=\"url(#p140c1195b2)\">\n     <use style=\"fill:#1f77b4;stroke:#1f77b4;\" x=\"127.638183\" xlink:href=\"#C0_0_983001407c\" y=\"52.929975\"/>\n    </g>\n   </g>\n   <g id=\"PathCollection_2\">\n    <defs>\n     <path d=\"M 0 3 \nC 0.795609 3 1.55874 2.683901 2.12132 2.12132 \nC 2.683901 1.55874 3 0.795609 3 -0 \nC 3 -0.795609 2.683901 -1.55874 2.12132 -2.12132 \nC 1.55874 -2.683901 0.795609 -3 0 -3 \nC -0.795609 -3 -1.55874 -2.683901 -2.12132 -2.12132 \nC -2.683901 -1.55874 -3 -0.795609 -3 0 \nC -3 0.795609 -2.683901 1.55874 -2.12132 2.12132 \nC -1.55874 2.683901 -0.795609 3 0 3 \nz\n\" id=\"C1_0_7d360ef2d1\"/>\n    </defs>\n    <g clip-path=\"url(#p140c1195b2)\">\n     <use style=\"fill:#ff7f0e;stroke:#ff7f0e;\" x=\"287.867441\" xlink:href=\"#C1_0_7d360ef2d1\" y=\"57.121612\"/>\n    </g>\n    <g clip-path=\"url(#p140c1195b2)\">\n     <use style=\"fill:#ff7f0e;stroke:#ff7f0e;\" x=\"276.098957\" xlink:href=\"#C1_0_7d360ef2d1\" y=\"95.650564\"/>\n    </g>\n    <g clip-path=\"url(#p140c1195b2)\">\n     <use style=\"fill:#ff7f0e;stroke:#ff7f0e;\" x=\"287.729705\" xlink:href=\"#C1_0_7d360ef2d1\" y=\"67.896114\"/>\n    </g>\n    <g clip-path=\"url(#p140c1195b2)\">\n     <use style=\"fill:#ff7f0e;stroke:#ff7f0e;\" x=\"300.527031\" xlink:href=\"#C1_0_7d360ef2d1\" y=\"60.235213\"/>\n    </g>\n    <g clip-path=\"url(#p140c1195b2)\">\n     <use style=\"fill:#ff7f0e;stroke:#ff7f0e;\" x=\"295.45514\" xlink:href=\"#C1_0_7d360ef2d1\" y=\"59.276998\"/>\n    </g>\n    <g clip-path=\"url(#p140c1195b2)\">\n     <use style=\"fill:#ff7f0e;stroke:#ff7f0e;\" x=\"271.691773\" xlink:href=\"#C1_0_7d360ef2d1\" y=\"52.266204\"/>\n    </g>\n    <g clip-path=\"url(#p140c1195b2)\">\n     <use style=\"fill:#ff7f0e;stroke:#ff7f0e;\" x=\"294.365267\" xlink:href=\"#C1_0_7d360ef2d1\" y=\"78.781248\"/>\n    </g>\n    <g clip-path=\"url(#p140c1195b2)\">\n     <use style=\"fill:#ff7f0e;stroke:#ff7f0e;\" x=\"317.368096\" xlink:href=\"#C1_0_7d360ef2d1\" y=\"83.412955\"/>\n    </g>\n    <g clip-path=\"url(#p140c1195b2)\">\n     <use style=\"fill:#ff7f0e;stroke:#ff7f0e;\" x=\"294.670734\" xlink:href=\"#C1_0_7d360ef2d1\" y=\"66.228033\"/>\n    </g>\n    <g clip-path=\"url(#p140c1195b2)\">\n     <use style=\"fill:#ff7f0e;stroke:#ff7f0e;\" x=\"296.107538\" xlink:href=\"#C1_0_7d360ef2d1\" y=\"79.163223\"/>\n    </g>\n    <g clip-path=\"url(#p140c1195b2)\">\n     <use style=\"fill:#ff7f0e;stroke:#ff7f0e;\" x=\"291.657875\" xlink:href=\"#C1_0_7d360ef2d1\" y=\"74.843822\"/>\n    </g>\n    <g clip-path=\"url(#p140c1195b2)\">\n     <use style=\"fill:#ff7f0e;stroke:#ff7f0e;\" x=\"263.969953\" xlink:href=\"#C1_0_7d360ef2d1\" y=\"23.54879\"/>\n    </g>\n    <g clip-path=\"url(#p140c1195b2)\">\n     <use style=\"fill:#ff7f0e;stroke:#ff7f0e;\" x=\"270.6107\" xlink:href=\"#C1_0_7d360ef2d1\" y=\"52.441407\"/>\n    </g>\n    <g clip-path=\"url(#p140c1195b2)\">\n     <use style=\"fill:#ff7f0e;stroke:#ff7f0e;\" x=\"315.104318\" xlink:href=\"#C1_0_7d360ef2d1\" y=\"65.031351\"/>\n    </g>\n    <g clip-path=\"url(#p140c1195b2)\">\n     <use style=\"fill:#ff7f0e;stroke:#ff7f0e;\" x=\"310.116784\" xlink:href=\"#C1_0_7d360ef2d1\" y=\"59.113599\"/>\n    </g>\n    <g clip-path=\"url(#p140c1195b2)\">\n     <use style=\"fill:#ff7f0e;stroke:#ff7f0e;\" x=\"301.050374\" xlink:href=\"#C1_0_7d360ef2d1\" y=\"80.118378\"/>\n    </g>\n    <g clip-path=\"url(#p140c1195b2)\">\n     <use style=\"fill:#ff7f0e;stroke:#ff7f0e;\" x=\"315.552984\" xlink:href=\"#C1_0_7d360ef2d1\" y=\"61.157447\"/>\n    </g>\n    <g clip-path=\"url(#p140c1195b2)\">\n     <use style=\"fill:#ff7f0e;stroke:#ff7f0e;\" x=\"277.742637\" xlink:href=\"#C1_0_7d360ef2d1\" y=\"78.257659\"/>\n    </g>\n    <g clip-path=\"url(#p140c1195b2)\">\n     <use style=\"fill:#ff7f0e;stroke:#ff7f0e;\" x=\"297.761192\" xlink:href=\"#C1_0_7d360ef2d1\" y=\"56.259084\"/>\n    </g>\n    <g clip-path=\"url(#p140c1195b2)\">\n     <use style=\"fill:#ff7f0e;stroke:#ff7f0e;\" x=\"276.663341\" xlink:href=\"#C1_0_7d360ef2d1\" y=\"68.243504\"/>\n    </g>\n    <g clip-path=\"url(#p140c1195b2)\">\n     <use style=\"fill:#ff7f0e;stroke:#ff7f0e;\" x=\"260.401245\" xlink:href=\"#C1_0_7d360ef2d1\" y=\"47.807431\"/>\n    </g>\n    <g clip-path=\"url(#p140c1195b2)\">\n     <use style=\"fill:#ff7f0e;stroke:#ff7f0e;\" x=\"293.994069\" xlink:href=\"#C1_0_7d360ef2d1\" y=\"48.778598\"/>\n    </g>\n    <g clip-path=\"url(#p140c1195b2)\">\n     <use style=\"fill:#ff7f0e;stroke:#ff7f0e;\" x=\"286.467784\" xlink:href=\"#C1_0_7d360ef2d1\" y=\"62.234895\"/>\n    </g>\n    <g clip-path=\"url(#p140c1195b2)\">\n     <use style=\"fill:#ff7f0e;stroke:#ff7f0e;\" x=\"295.611736\" xlink:href=\"#C1_0_7d360ef2d1\" y=\"51.699811\"/>\n    </g>\n    <g clip-path=\"url(#p140c1195b2)\">\n     <use style=\"fill:#ff7f0e;stroke:#ff7f0e;\" x=\"289.400266\" xlink:href=\"#C1_0_7d360ef2d1\" y=\"77.490489\"/>\n    </g>\n    <g clip-path=\"url(#p140c1195b2)\">\n     <use style=\"fill:#ff7f0e;stroke:#ff7f0e;\" x=\"316.683353\" xlink:href=\"#C1_0_7d360ef2d1\" y=\"71.310111\"/>\n    </g>\n    <g clip-path=\"url(#p140c1195b2)\">\n     <use style=\"fill:#ff7f0e;stroke:#ff7f0e;\" x=\"273.562747\" xlink:href=\"#C1_0_7d360ef2d1\" y=\"51.827112\"/>\n    </g>\n    <g clip-path=\"url(#p140c1195b2)\">\n     <use style=\"fill:#ff7f0e;stroke:#ff7f0e;\" x=\"258.501349\" xlink:href=\"#C1_0_7d360ef2d1\" y=\"59.950171\"/>\n    </g>\n    <g clip-path=\"url(#p140c1195b2)\">\n     <use style=\"fill:#ff7f0e;stroke:#ff7f0e;\" x=\"354.886506\" xlink:href=\"#C1_0_7d360ef2d1\" y=\"98.315021\"/>\n    </g>\n    <g clip-path=\"url(#p140c1195b2)\">\n     <use style=\"fill:#ff7f0e;stroke:#ff7f0e;\" x=\"304.179317\" xlink:href=\"#C1_0_7d360ef2d1\" y=\"69.566188\"/>\n    </g>\n    <g clip-path=\"url(#p140c1195b2)\">\n     <use style=\"fill:#ff7f0e;stroke:#ff7f0e;\" x=\"296.586434\" xlink:href=\"#C1_0_7d360ef2d1\" y=\"61.09679\"/>\n    </g>\n    <g clip-path=\"url(#p140c1195b2)\">\n     <use style=\"fill:#ff7f0e;stroke:#ff7f0e;\" x=\"317.888267\" xlink:href=\"#C1_0_7d360ef2d1\" y=\"62.948506\"/>\n    </g>\n    <g clip-path=\"url(#p140c1195b2)\">\n     <use style=\"fill:#ff7f0e;stroke:#ff7f0e;\" x=\"291.003846\" xlink:href=\"#C1_0_7d360ef2d1\" y=\"74.341769\"/>\n    </g>\n    <g clip-path=\"url(#p140c1195b2)\">\n     <use style=\"fill:#ff7f0e;stroke:#ff7f0e;\" x=\"278.400191\" xlink:href=\"#C1_0_7d360ef2d1\" y=\"77.075139\"/>\n    </g>\n    <g clip-path=\"url(#p140c1195b2)\">\n     <use style=\"fill:#ff7f0e;stroke:#ff7f0e;\" x=\"278.034766\" xlink:href=\"#C1_0_7d360ef2d1\" y=\"51.570935\"/>\n    </g>\n    <g clip-path=\"url(#p140c1195b2)\">\n     <use style=\"fill:#ff7f0e;stroke:#ff7f0e;\" x=\"285.136268\" xlink:href=\"#C1_0_7d360ef2d1\" y=\"69.202422\"/>\n    </g>\n    <g clip-path=\"url(#p140c1195b2)\">\n     <use style=\"fill:#ff7f0e;stroke:#ff7f0e;\" x=\"262.628008\" xlink:href=\"#C1_0_7d360ef2d1\" y=\"31.248341\"/>\n    </g>\n    <g clip-path=\"url(#p140c1195b2)\">\n     <use style=\"fill:#ff7f0e;stroke:#ff7f0e;\" x=\"281.068776\" xlink:href=\"#C1_0_7d360ef2d1\" y=\"55.35698\"/>\n    </g>\n    <g clip-path=\"url(#p140c1195b2)\">\n     <use style=\"fill:#ff7f0e;stroke:#ff7f0e;\" x=\"298.397154\" xlink:href=\"#C1_0_7d360ef2d1\" y=\"72.425018\"/>\n    </g>\n    <g clip-path=\"url(#p140c1195b2)\">\n     <use style=\"fill:#ff7f0e;stroke:#ff7f0e;\" x=\"319.42356\" xlink:href=\"#C1_0_7d360ef2d1\" y=\"68.77517\"/>\n    </g>\n    <g clip-path=\"url(#p140c1195b2)\">\n     <use style=\"fill:#ff7f0e;stroke:#ff7f0e;\" x=\"297.937794\" xlink:href=\"#C1_0_7d360ef2d1\" y=\"75.74186\"/>\n    </g>\n    <g clip-path=\"url(#p140c1195b2)\">\n     <use style=\"fill:#ff7f0e;stroke:#ff7f0e;\" x=\"286.508575\" xlink:href=\"#C1_0_7d360ef2d1\" y=\"53.790715\"/>\n    </g>\n    <g clip-path=\"url(#p140c1195b2)\">\n     <use style=\"fill:#ff7f0e;stroke:#ff7f0e;\" x=\"297.250951\" xlink:href=\"#C1_0_7d360ef2d1\" y=\"90.565763\"/>\n    </g>\n    <g clip-path=\"url(#p140c1195b2)\">\n     <use style=\"fill:#ff7f0e;stroke:#ff7f0e;\" x=\"302.812989\" xlink:href=\"#C1_0_7d360ef2d1\" y=\"57.327984\"/>\n    </g>\n    <g clip-path=\"url(#p140c1195b2)\">\n     <use style=\"fill:#ff7f0e;stroke:#ff7f0e;\" x=\"304.725311\" xlink:href=\"#C1_0_7d360ef2d1\" y=\"93.135023\"/>\n    </g>\n    <g clip-path=\"url(#p140c1195b2)\">\n     <use style=\"fill:#ff7f0e;stroke:#ff7f0e;\" x=\"316.46505\" xlink:href=\"#C1_0_7d360ef2d1\" y=\"78.304137\"/>\n    </g>\n    <g clip-path=\"url(#p140c1195b2)\">\n     <use style=\"fill:#ff7f0e;stroke:#ff7f0e;\" x=\"291.22967\" xlink:href=\"#C1_0_7d360ef2d1\" y=\"86.965586\"/>\n    </g>\n    <g clip-path=\"url(#p140c1195b2)\">\n     <use style=\"fill:#ff7f0e;stroke:#ff7f0e;\" x=\"276.270447\" xlink:href=\"#C1_0_7d360ef2d1\" y=\"31.590918\"/>\n    </g>\n    <g clip-path=\"url(#p140c1195b2)\">\n     <use style=\"fill:#ff7f0e;stroke:#ff7f0e;\" x=\"314.045777\" xlink:href=\"#C1_0_7d360ef2d1\" y=\"71.287304\"/>\n    </g>\n    <g clip-path=\"url(#p140c1195b2)\">\n     <use style=\"fill:#ff7f0e;stroke:#ff7f0e;\" x=\"308.258678\" xlink:href=\"#C1_0_7d360ef2d1\" y=\"74.793234\"/>\n    </g>\n    <g clip-path=\"url(#p140c1195b2)\">\n     <use style=\"fill:#ff7f0e;stroke:#ff7f0e;\" x=\"286.140153\" xlink:href=\"#C1_0_7d360ef2d1\" y=\"37.525633\"/>\n    </g>\n    <g clip-path=\"url(#p140c1195b2)\">\n     <use style=\"fill:#ff7f0e;stroke:#ff7f0e;\" x=\"349.09879\" xlink:href=\"#C1_0_7d360ef2d1\" y=\"94.000513\"/>\n    </g>\n    <g clip-path=\"url(#p140c1195b2)\">\n     <use style=\"fill:#ff7f0e;stroke:#ff7f0e;\" x=\"315.388368\" xlink:href=\"#C1_0_7d360ef2d1\" y=\"72.700952\"/>\n    </g>\n    <g clip-path=\"url(#p140c1195b2)\">\n     <use style=\"fill:#ff7f0e;stroke:#ff7f0e;\" x=\"324.235652\" xlink:href=\"#C1_0_7d360ef2d1\" y=\"38.911981\"/>\n    </g>\n    <g clip-path=\"url(#p140c1195b2)\">\n     <use style=\"fill:#ff7f0e;stroke:#ff7f0e;\" x=\"289.383653\" xlink:href=\"#C1_0_7d360ef2d1\" y=\"81.279211\"/>\n    </g>\n    <g clip-path=\"url(#p140c1195b2)\">\n     <use style=\"fill:#ff7f0e;stroke:#ff7f0e;\" x=\"312.390213\" xlink:href=\"#C1_0_7d360ef2d1\" y=\"81.899039\"/>\n    </g>\n    <g clip-path=\"url(#p140c1195b2)\">\n     <use style=\"fill:#ff7f0e;stroke:#ff7f0e;\" x=\"296.247903\" xlink:href=\"#C1_0_7d360ef2d1\" y=\"37.523401\"/>\n    </g>\n    <g clip-path=\"url(#p140c1195b2)\">\n     <use style=\"fill:#ff7f0e;stroke:#ff7f0e;\" x=\"293.968276\" xlink:href=\"#C1_0_7d360ef2d1\" y=\"56.88077\"/>\n    </g>\n    <g clip-path=\"url(#p140c1195b2)\">\n     <use style=\"fill:#ff7f0e;stroke:#ff7f0e;\" x=\"304.961461\" xlink:href=\"#C1_0_7d360ef2d1\" y=\"49.656391\"/>\n    </g>\n    <g clip-path=\"url(#p140c1195b2)\">\n     <use style=\"fill:#ff7f0e;stroke:#ff7f0e;\" x=\"242.476637\" xlink:href=\"#C1_0_7d360ef2d1\" y=\"43.98593\"/>\n    </g>\n    <g clip-path=\"url(#p140c1195b2)\">\n     <use style=\"fill:#ff7f0e;stroke:#ff7f0e;\" x=\"272.18242\" xlink:href=\"#C1_0_7d360ef2d1\" y=\"59.257233\"/>\n    </g>\n    <g clip-path=\"url(#p140c1195b2)\">\n     <use style=\"fill:#ff7f0e;stroke:#ff7f0e;\" x=\"304.596638\" xlink:href=\"#C1_0_7d360ef2d1\" y=\"90.60629\"/>\n    </g>\n    <g clip-path=\"url(#p140c1195b2)\">\n     <use style=\"fill:#ff7f0e;stroke:#ff7f0e;\" x=\"278.781422\" xlink:href=\"#C1_0_7d360ef2d1\" y=\"39.567195\"/>\n    </g>\n    <g clip-path=\"url(#p140c1195b2)\">\n     <use style=\"fill:#ff7f0e;stroke:#ff7f0e;\" x=\"293.518816\" xlink:href=\"#C1_0_7d360ef2d1\" y=\"65.37875\"/>\n    </g>\n    <g clip-path=\"url(#p140c1195b2)\">\n     <use style=\"fill:#ff7f0e;stroke:#ff7f0e;\" x=\"294.096141\" xlink:href=\"#C1_0_7d360ef2d1\" y=\"79.264514\"/>\n    </g>\n    <g clip-path=\"url(#p140c1195b2)\">\n     <use style=\"fill:#ff7f0e;stroke:#ff7f0e;\" x=\"296.513534\" xlink:href=\"#C1_0_7d360ef2d1\" y=\"78.105531\"/>\n    </g>\n    <g clip-path=\"url(#p140c1195b2)\">\n     <use style=\"fill:#ff7f0e;stroke:#ff7f0e;\" x=\"327.322703\" xlink:href=\"#C1_0_7d360ef2d1\" y=\"113.431074\"/>\n    </g>\n    <g clip-path=\"url(#p140c1195b2)\">\n     <use style=\"fill:#ff7f0e;stroke:#ff7f0e;\" x=\"298.013867\" xlink:href=\"#C1_0_7d360ef2d1\" y=\"82.112251\"/>\n    </g>\n    <g clip-path=\"url(#p140c1195b2)\">\n     <use style=\"fill:#ff7f0e;stroke:#ff7f0e;\" x=\"284.331739\" xlink:href=\"#C1_0_7d360ef2d1\" y=\"54.44817\"/>\n    </g>\n    <g clip-path=\"url(#p140c1195b2)\">\n     <use style=\"fill:#ff7f0e;stroke:#ff7f0e;\" x=\"277.08216\" xlink:href=\"#C1_0_7d360ef2d1\" y=\"52.105483\"/>\n    </g>\n    <g clip-path=\"url(#p140c1195b2)\">\n     <use style=\"fill:#ff7f0e;stroke:#ff7f0e;\" x=\"308.672415\" xlink:href=\"#C1_0_7d360ef2d1\" y=\"35.348747\"/>\n    </g>\n    <g clip-path=\"url(#p140c1195b2)\">\n     <use style=\"fill:#ff7f0e;stroke:#ff7f0e;\" x=\"335.506395\" xlink:href=\"#C1_0_7d360ef2d1\" y=\"90.566199\"/>\n    </g>\n    <g clip-path=\"url(#p140c1195b2)\">\n     <use style=\"fill:#ff7f0e;stroke:#ff7f0e;\" x=\"296.066939\" xlink:href=\"#C1_0_7d360ef2d1\" y=\"96.886038\"/>\n    </g>\n    <g clip-path=\"url(#p140c1195b2)\">\n     <use style=\"fill:#ff7f0e;stroke:#ff7f0e;\" x=\"290.783016\" xlink:href=\"#C1_0_7d360ef2d1\" y=\"60.359197\"/>\n    </g>\n    <g clip-path=\"url(#p140c1195b2)\">\n     <use style=\"fill:#ff7f0e;stroke:#ff7f0e;\" x=\"321.276686\" xlink:href=\"#C1_0_7d360ef2d1\" y=\"82.857797\"/>\n    </g>\n    <g clip-path=\"url(#p140c1195b2)\">\n     <use style=\"fill:#ff7f0e;stroke:#ff7f0e;\" x=\"267.479127\" xlink:href=\"#C1_0_7d360ef2d1\" y=\"92.165733\"/>\n    </g>\n    <g clip-path=\"url(#p140c1195b2)\">\n     <use style=\"fill:#ff7f0e;stroke:#ff7f0e;\" x=\"301.542681\" xlink:href=\"#C1_0_7d360ef2d1\" y=\"47.163773\"/>\n    </g>\n    <g clip-path=\"url(#p140c1195b2)\">\n     <use style=\"fill:#ff7f0e;stroke:#ff7f0e;\" x=\"278.443435\" xlink:href=\"#C1_0_7d360ef2d1\" y=\"56.473008\"/>\n    </g>\n    <g clip-path=\"url(#p140c1195b2)\">\n     <use style=\"fill:#ff7f0e;stroke:#ff7f0e;\" x=\"334.868186\" xlink:href=\"#C1_0_7d360ef2d1\" y=\"57.520933\"/>\n    </g>\n    <g clip-path=\"url(#p140c1195b2)\">\n     <use style=\"fill:#ff7f0e;stroke:#ff7f0e;\" x=\"305.485099\" xlink:href=\"#C1_0_7d360ef2d1\" y=\"80.473854\"/>\n    </g>\n    <g clip-path=\"url(#p140c1195b2)\">\n     <use style=\"fill:#ff7f0e;stroke:#ff7f0e;\" x=\"315.141612\" xlink:href=\"#C1_0_7d360ef2d1\" y=\"95.315467\"/>\n    </g>\n    <g clip-path=\"url(#p140c1195b2)\">\n     <use style=\"fill:#ff7f0e;stroke:#ff7f0e;\" x=\"302.996025\" xlink:href=\"#C1_0_7d360ef2d1\" y=\"90.084427\"/>\n    </g>\n    <g clip-path=\"url(#p140c1195b2)\">\n     <use style=\"fill:#ff7f0e;stroke:#ff7f0e;\" x=\"259.122461\" xlink:href=\"#C1_0_7d360ef2d1\" y=\"35.234397\"/>\n    </g>\n    <g clip-path=\"url(#p140c1195b2)\">\n     <use style=\"fill:#ff7f0e;stroke:#ff7f0e;\" x=\"274.359653\" xlink:href=\"#C1_0_7d360ef2d1\" y=\"57.310149\"/>\n    </g>\n    <g clip-path=\"url(#p140c1195b2)\">\n     <use style=\"fill:#ff7f0e;stroke:#ff7f0e;\" x=\"278.662223\" xlink:href=\"#C1_0_7d360ef2d1\" y=\"91.294283\"/>\n    </g>\n    <g clip-path=\"url(#p140c1195b2)\">\n     <use style=\"fill:#ff7f0e;stroke:#ff7f0e;\" x=\"293.531977\" xlink:href=\"#C1_0_7d360ef2d1\" y=\"62.638112\"/>\n    </g>\n    <g clip-path=\"url(#p140c1195b2)\">\n     <use style=\"fill:#ff7f0e;stroke:#ff7f0e;\" x=\"247.620033\" xlink:href=\"#C1_0_7d360ef2d1\" y=\"67.885822\"/>\n    </g>\n    <g clip-path=\"url(#p140c1195b2)\">\n     <use style=\"fill:#ff7f0e;stroke:#ff7f0e;\" x=\"264.554152\" xlink:href=\"#C1_0_7d360ef2d1\" y=\"46.411672\"/>\n    </g>\n    <g clip-path=\"url(#p140c1195b2)\">\n     <use style=\"fill:#ff7f0e;stroke:#ff7f0e;\" x=\"291.258783\" xlink:href=\"#C1_0_7d360ef2d1\" y=\"75.984596\"/>\n    </g>\n    <g clip-path=\"url(#p140c1195b2)\">\n     <use style=\"fill:#ff7f0e;stroke:#ff7f0e;\" x=\"263.056565\" xlink:href=\"#C1_0_7d360ef2d1\" y=\"17.083636\"/>\n    </g>\n    <g clip-path=\"url(#p140c1195b2)\">\n     <use style=\"fill:#ff7f0e;stroke:#ff7f0e;\" x=\"330.783713\" xlink:href=\"#C1_0_7d360ef2d1\" y=\"51.086913\"/>\n    </g>\n    <g clip-path=\"url(#p140c1195b2)\">\n     <use style=\"fill:#ff7f0e;stroke:#ff7f0e;\" x=\"280.504039\" xlink:href=\"#C1_0_7d360ef2d1\" y=\"74.655979\"/>\n    </g>\n    <g clip-path=\"url(#p140c1195b2)\">\n     <use style=\"fill:#ff7f0e;stroke:#ff7f0e;\" x=\"285.76114\" xlink:href=\"#C1_0_7d360ef2d1\" y=\"46.102239\"/>\n    </g>\n    <g clip-path=\"url(#p140c1195b2)\">\n     <use style=\"fill:#ff7f0e;stroke:#ff7f0e;\" x=\"298.973627\" xlink:href=\"#C1_0_7d360ef2d1\" y=\"85.785334\"/>\n    </g>\n    <g clip-path=\"url(#p140c1195b2)\">\n     <use style=\"fill:#ff7f0e;stroke:#ff7f0e;\" x=\"254.523987\" xlink:href=\"#C1_0_7d360ef2d1\" y=\"22.766853\"/>\n    </g>\n    <g clip-path=\"url(#p140c1195b2)\">\n     <use style=\"fill:#ff7f0e;stroke:#ff7f0e;\" x=\"311.148195\" xlink:href=\"#C1_0_7d360ef2d1\" y=\"74.109182\"/>\n    </g>\n    <g clip-path=\"url(#p140c1195b2)\">\n     <use style=\"fill:#ff7f0e;stroke:#ff7f0e;\" x=\"305.436729\" xlink:href=\"#C1_0_7d360ef2d1\" y=\"100.933481\"/>\n    </g>\n    <g clip-path=\"url(#p140c1195b2)\">\n     <use style=\"fill:#ff7f0e;stroke:#ff7f0e;\" x=\"302.456171\" xlink:href=\"#C1_0_7d360ef2d1\" y=\"64.707658\"/>\n    </g>\n    <g clip-path=\"url(#p140c1195b2)\">\n     <use style=\"fill:#ff7f0e;stroke:#ff7f0e;\" x=\"281.290149\" xlink:href=\"#C1_0_7d360ef2d1\" y=\"24.912615\"/>\n    </g>\n    <g clip-path=\"url(#p140c1195b2)\">\n     <use style=\"fill:#ff7f0e;stroke:#ff7f0e;\" x=\"299.507767\" xlink:href=\"#C1_0_7d360ef2d1\" y=\"67.108618\"/>\n    </g>\n   </g>\n   <g id=\"matplotlib.axis_1\">\n    <g id=\"xtick_1\">\n     <g id=\"line2d_1\">\n      <defs>\n       <path d=\"M 0 0 \nL 0 3.5 \n\" id=\"m7e12c6f0c7\" style=\"stroke:#000000;stroke-width:0.8;\"/>\n      </defs>\n      <g>\n       <use style=\"stroke:#000000;stroke-width:0.8;\" x=\"60.664801\" xlink:href=\"#m7e12c6f0c7\" y=\"224.64\"/>\n      </g>\n     </g>\n     <g id=\"text_1\">\n      <!-- −10 -->\n      <g transform=\"translate(50.112457 239.238438)scale(0.1 -0.1)\">\n       <defs>\n        <path d=\"M 10.59375 35.5 \nL 73.1875 35.5 \nL 73.1875 27.203125 \nL 10.59375 27.203125 \nz\n\" id=\"DejaVuSans-8722\"/>\n        <path d=\"M 12.40625 8.296875 \nL 28.515625 8.296875 \nL 28.515625 63.921875 \nL 10.984375 60.40625 \nL 10.984375 69.390625 \nL 28.421875 72.90625 \nL 38.28125 72.90625 \nL 38.28125 8.296875 \nL 54.390625 8.296875 \nL 54.390625 0 \nL 12.40625 0 \nz\n\" id=\"DejaVuSans-49\"/>\n        <path d=\"M 31.78125 66.40625 \nQ 24.171875 66.40625 20.328125 58.90625 \nQ 16.5 51.421875 16.5 36.375 \nQ 16.5 21.390625 20.328125 13.890625 \nQ 24.171875 6.390625 31.78125 6.390625 \nQ 39.453125 6.390625 43.28125 13.890625 \nQ 47.125 21.390625 47.125 36.375 \nQ 47.125 51.421875 43.28125 58.90625 \nQ 39.453125 66.40625 31.78125 66.40625 \nz\nM 31.78125 74.21875 \nQ 44.046875 74.21875 50.515625 64.515625 \nQ 56.984375 54.828125 56.984375 36.375 \nQ 56.984375 17.96875 50.515625 8.265625 \nQ 44.046875 -1.421875 31.78125 -1.421875 \nQ 19.53125 -1.421875 13.0625 8.265625 \nQ 6.59375 17.96875 6.59375 36.375 \nQ 6.59375 54.828125 13.0625 64.515625 \nQ 19.53125 74.21875 31.78125 74.21875 \nz\n\" id=\"DejaVuSans-48\"/>\n       </defs>\n       <use xlink:href=\"#DejaVuSans-8722\"/>\n       <use x=\"83.789062\" xlink:href=\"#DejaVuSans-49\"/>\n       <use x=\"147.412109\" xlink:href=\"#DejaVuSans-48\"/>\n      </g>\n     </g>\n    </g>\n    <g id=\"xtick_2\">\n     <g id=\"line2d_2\">\n      <g>\n       <use style=\"stroke:#000000;stroke-width:0.8;\" x=\"134.108306\" xlink:href=\"#m7e12c6f0c7\" y=\"224.64\"/>\n      </g>\n     </g>\n     <g id=\"text_2\">\n      <!-- −5 -->\n      <g transform=\"translate(126.737213 239.238438)scale(0.1 -0.1)\">\n       <defs>\n        <path d=\"M 10.796875 72.90625 \nL 49.515625 72.90625 \nL 49.515625 64.59375 \nL 19.828125 64.59375 \nL 19.828125 46.734375 \nQ 21.96875 47.46875 24.109375 47.828125 \nQ 26.265625 48.1875 28.421875 48.1875 \nQ 40.625 48.1875 47.75 41.5 \nQ 54.890625 34.8125 54.890625 23.390625 \nQ 54.890625 11.625 47.5625 5.09375 \nQ 40.234375 -1.421875 26.90625 -1.421875 \nQ 22.3125 -1.421875 17.546875 -0.640625 \nQ 12.796875 0.140625 7.71875 1.703125 \nL 7.71875 11.625 \nQ 12.109375 9.234375 16.796875 8.0625 \nQ 21.484375 6.890625 26.703125 6.890625 \nQ 35.15625 6.890625 40.078125 11.328125 \nQ 45.015625 15.765625 45.015625 23.390625 \nQ 45.015625 31 40.078125 35.4375 \nQ 35.15625 39.890625 26.703125 39.890625 \nQ 22.75 39.890625 18.8125 39.015625 \nQ 14.890625 38.140625 10.796875 36.28125 \nz\n\" id=\"DejaVuSans-53\"/>\n       </defs>\n       <use xlink:href=\"#DejaVuSans-8722\"/>\n       <use x=\"83.789062\" xlink:href=\"#DejaVuSans-53\"/>\n      </g>\n     </g>\n    </g>\n    <g id=\"xtick_3\">\n     <g id=\"line2d_3\">\n      <g>\n       <use style=\"stroke:#000000;stroke-width:0.8;\" x=\"207.551812\" xlink:href=\"#m7e12c6f0c7\" y=\"224.64\"/>\n      </g>\n     </g>\n     <g id=\"text_3\">\n      <!-- 0 -->\n      <g transform=\"translate(204.370562 239.238438)scale(0.1 -0.1)\">\n       <use xlink:href=\"#DejaVuSans-48\"/>\n      </g>\n     </g>\n    </g>\n    <g id=\"xtick_4\">\n     <g id=\"line2d_4\">\n      <g>\n       <use style=\"stroke:#000000;stroke-width:0.8;\" x=\"280.995318\" xlink:href=\"#m7e12c6f0c7\" y=\"224.64\"/>\n      </g>\n     </g>\n     <g id=\"text_4\">\n      <!-- 5 -->\n      <g transform=\"translate(277.814068 239.238438)scale(0.1 -0.1)\">\n       <use xlink:href=\"#DejaVuSans-53\"/>\n      </g>\n     </g>\n    </g>\n    <g id=\"xtick_5\">\n     <g id=\"line2d_5\">\n      <g>\n       <use style=\"stroke:#000000;stroke-width:0.8;\" x=\"354.438823\" xlink:href=\"#m7e12c6f0c7\" y=\"224.64\"/>\n      </g>\n     </g>\n     <g id=\"text_5\">\n      <!-- 10 -->\n      <g transform=\"translate(348.076323 239.238438)scale(0.1 -0.1)\">\n       <use xlink:href=\"#DejaVuSans-49\"/>\n       <use x=\"63.623047\" xlink:href=\"#DejaVuSans-48\"/>\n      </g>\n     </g>\n    </g>\n   </g>\n   <g id=\"matplotlib.axis_2\">\n    <g id=\"ytick_1\">\n     <g id=\"line2d_6\">\n      <defs>\n       <path d=\"M 0 0 \nL -3.5 0 \n\" id=\"m01b13ab2b4\" style=\"stroke:#000000;stroke-width:0.8;\"/>\n      </defs>\n      <g>\n       <use style=\"stroke:#000000;stroke-width:0.8;\" x=\"35.304688\" xlink:href=\"#m01b13ab2b4\" y=\"209.616189\"/>\n      </g>\n     </g>\n     <g id=\"text_6\">\n      <!-- −10 -->\n      <g transform=\"translate(7.2 213.415408)scale(0.1 -0.1)\">\n       <use xlink:href=\"#DejaVuSans-8722\"/>\n       <use x=\"83.789062\" xlink:href=\"#DejaVuSans-49\"/>\n       <use x=\"147.412109\" xlink:href=\"#DejaVuSans-48\"/>\n      </g>\n     </g>\n    </g>\n    <g id=\"ytick_2\">\n     <g id=\"line2d_7\">\n      <g>\n       <use style=\"stroke:#000000;stroke-width:0.8;\" x=\"35.304688\" xlink:href=\"#m01b13ab2b4\" y=\"165.139473\"/>\n      </g>\n     </g>\n     <g id=\"text_7\">\n      <!-- −5 -->\n      <g transform=\"translate(13.5625 168.938692)scale(0.1 -0.1)\">\n       <use xlink:href=\"#DejaVuSans-8722\"/>\n       <use x=\"83.789062\" xlink:href=\"#DejaVuSans-53\"/>\n      </g>\n     </g>\n    </g>\n    <g id=\"ytick_3\">\n     <g id=\"line2d_8\">\n      <g>\n       <use style=\"stroke:#000000;stroke-width:0.8;\" x=\"35.304688\" xlink:href=\"#m01b13ab2b4\" y=\"120.662757\"/>\n      </g>\n     </g>\n     <g id=\"text_8\">\n      <!-- 0 -->\n      <g transform=\"translate(21.942188 124.461975)scale(0.1 -0.1)\">\n       <use xlink:href=\"#DejaVuSans-48\"/>\n      </g>\n     </g>\n    </g>\n    <g id=\"ytick_4\">\n     <g id=\"line2d_9\">\n      <g>\n       <use style=\"stroke:#000000;stroke-width:0.8;\" x=\"35.304688\" xlink:href=\"#m01b13ab2b4\" y=\"76.18604\"/>\n      </g>\n     </g>\n     <g id=\"text_9\">\n      <!-- 5 -->\n      <g transform=\"translate(21.942188 79.985259)scale(0.1 -0.1)\">\n       <use xlink:href=\"#DejaVuSans-53\"/>\n      </g>\n     </g>\n    </g>\n    <g id=\"ytick_5\">\n     <g id=\"line2d_10\">\n      <g>\n       <use style=\"stroke:#000000;stroke-width:0.8;\" x=\"35.304688\" xlink:href=\"#m01b13ab2b4\" y=\"31.709324\"/>\n      </g>\n     </g>\n     <g id=\"text_10\">\n      <!-- 10 -->\n      <g transform=\"translate(15.579688 35.508543)scale(0.1 -0.1)\">\n       <use xlink:href=\"#DejaVuSans-49\"/>\n       <use x=\"63.623047\" xlink:href=\"#DejaVuSans-48\"/>\n      </g>\n     </g>\n    </g>\n   </g>\n   <g id=\"line2d_11\">\n    <path clip-path=\"url(#p140c1195b2)\" d=\"M 207.551812 214.756364 \nL 222.240513 193.846673 \nL 236.929214 172.936983 \nL 251.617915 152.027292 \nL 266.306617 131.117602 \nL 280.995318 110.207911 \nL 295.684019 89.298221 \nL 310.37272 68.38853 \nL 325.061421 47.47884 \nL 339.750122 26.56915 \n\" style=\"fill:none;stroke:#1f77b4;stroke-linecap:square;stroke-width:2.5;\"/>\n   </g>\n   <g id=\"patch_3\">\n    <path d=\"M 35.304688 224.64 \nL 35.304688 7.2 \n\" style=\"fill:none;stroke:#000000;stroke-linecap:square;stroke-linejoin:miter;stroke-width:0.8;\"/>\n   </g>\n   <g id=\"patch_4\">\n    <path d=\"M 370.104688 224.64 \nL 370.104688 7.2 \n\" style=\"fill:none;stroke:#000000;stroke-linecap:square;stroke-linejoin:miter;stroke-width:0.8;\"/>\n   </g>\n   <g id=\"patch_5\">\n    <path d=\"M 35.304688 224.64 \nL 370.104688 224.64 \n\" style=\"fill:none;stroke:#000000;stroke-linecap:square;stroke-linejoin:miter;stroke-width:0.8;\"/>\n   </g>\n   <g id=\"patch_6\">\n    <path d=\"M 35.304688 7.2 \nL 370.104688 7.2 \n\" style=\"fill:none;stroke:#000000;stroke-linecap:square;stroke-linejoin:miter;stroke-width:0.8;\"/>\n   </g>\n   <g id=\"legend_1\">\n    <g id=\"patch_7\">\n     <path d=\"M 42.304688 44.55625 \nL 80.667188 44.55625 \nQ 82.667188 44.55625 82.667188 42.55625 \nL 82.667188 14.2 \nQ 82.667188 12.2 80.667188 12.2 \nL 42.304688 12.2 \nQ 40.304688 12.2 40.304688 14.2 \nL 40.304688 42.55625 \nQ 40.304688 44.55625 42.304688 44.55625 \nz\n\" style=\"fill:#ffffff;opacity:0.8;stroke:#cccccc;stroke-linejoin:miter;\"/>\n    </g>\n    <g id=\"PathCollection_3\">\n     <path d=\"M 54.304688 24.173437 \nC 55.100297 24.173437 55.863427 23.857339 56.426008 23.294758 \nC 56.988589 22.732177 57.304688 21.969047 57.304688 21.173437 \nC 57.304688 20.377828 56.988589 19.614698 56.426008 19.052117 \nC 55.863427 18.489536 55.100297 18.173437 54.304688 18.173437 \nC 53.509078 18.173437 52.745948 18.489536 52.183367 19.052117 \nC 51.620786 19.614698 51.304688 20.377828 51.304688 21.173437 \nC 51.304688 21.969047 51.620786 22.732177 52.183367 23.294758 \nC 52.745948 23.857339 53.509078 24.173437 54.304688 24.173437 \nz\n\" style=\"fill:#1f77b4;stroke:#1f77b4;\"/>\n    </g>\n    <g id=\"text_11\">\n     <!-- 1 -->\n     <g transform=\"translate(72.304688 23.798437)scale(0.1 -0.1)\">\n      <use xlink:href=\"#DejaVuSans-49\"/>\n     </g>\n    </g>\n    <g id=\"PathCollection_4\">\n     <path d=\"M 54.304688 38.851562 \nC 55.100297 38.851562 55.863427 38.535464 56.426008 37.972883 \nC 56.988589 37.410302 57.304688 36.647172 57.304688 35.851562 \nC 57.304688 35.055953 56.988589 34.292823 56.426008 33.730242 \nC 55.863427 33.167661 55.100297 32.851562 54.304688 32.851562 \nC 53.509078 32.851562 52.745948 33.167661 52.183367 33.730242 \nC 51.620786 34.292823 51.304688 35.055953 51.304688 35.851562 \nC 51.304688 36.647172 51.620786 37.410302 52.183367 37.972883 \nC 52.745948 38.535464 53.509078 38.851562 54.304688 38.851562 \nz\n\" style=\"fill:#ff7f0e;stroke:#ff7f0e;\"/>\n    </g>\n    <g id=\"text_12\">\n     <!-- 2 -->\n     <g transform=\"translate(72.304688 38.476562)scale(0.1 -0.1)\">\n      <defs>\n       <path d=\"M 19.1875 8.296875 \nL 53.609375 8.296875 \nL 53.609375 0 \nL 7.328125 0 \nL 7.328125 8.296875 \nQ 12.9375 14.109375 22.625 23.890625 \nQ 32.328125 33.6875 34.8125 36.53125 \nQ 39.546875 41.84375 41.421875 45.53125 \nQ 43.3125 49.21875 43.3125 52.78125 \nQ 43.3125 58.59375 39.234375 62.25 \nQ 35.15625 65.921875 28.609375 65.921875 \nQ 23.96875 65.921875 18.8125 64.3125 \nQ 13.671875 62.703125 7.8125 59.421875 \nL 7.8125 69.390625 \nQ 13.765625 71.78125 18.9375 73 \nQ 24.125 74.21875 28.421875 74.21875 \nQ 39.75 74.21875 46.484375 68.546875 \nQ 53.21875 62.890625 53.21875 53.421875 \nQ 53.21875 48.921875 51.53125 44.890625 \nQ 49.859375 40.875 45.40625 35.40625 \nQ 44.1875 33.984375 37.640625 27.21875 \nQ 31.109375 20.453125 19.1875 8.296875 \nz\n\" id=\"DejaVuSans-50\"/>\n      </defs>\n      <use xlink:href=\"#DejaVuSans-50\"/>\n     </g>\n    </g>\n   </g>\n  </g>\n </g>\n <defs>\n  <clipPath id=\"p140c1195b2\">\n   <rect height=\"217.44\" width=\"334.8\" x=\"35.304688\" y=\"7.2\"/>\n  </clipPath>\n </defs>\n</svg>\n",
      "image/png": "[encoded data removed]"
     },
     "metadata": {
      "needs_background": "light"
     }
    }
   ],
   "source": [
    "linear = LinearSeparationModel()\n",
    "model = linear.linear_train(split_data_tp1_app, True)\n",
    "linear.print_model()\n",
    "linear.test_linear_model(split_data_tp1_dec, model)\n",
    "linear.print_model_result()\n",
    "linear.plot_test_data()"
   ]
  },
  {
   "source": [
    "## Conclusion\n",
    "||Dataset 1|Dataset 2|Dataset 3|\n",
    "|----|-----|-----|-----|\n",
    "|estimation gaussienne (euclidienne)| 99,2% | 94,6% | 72,8% |\n",
    "|estimation gaussienne (euclidienne)| 99,2% | 94,6% | 72,8% |\n",
    "|1ppv| 99,2% | 92% | 64,6% |\n",
    "|kppv (unanimité)| 99,2% | 59% | 12,6% |\n",
    "|kppv (majorité)| 99,6% | 94,6% | 68,6% |\n",
    "|Parzen (uniform)| 99,6% | 94,6% | 69,4% |\n",
    "|Parzen (gaussienne)|  |  |  |"
   ],
   "cell_type": "markdown",
   "metadata": {}
  }
 ]
}